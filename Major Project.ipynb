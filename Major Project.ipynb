{
 "cells": [
  {
   "cell_type": "markdown",
   "metadata": {
    "id": "rncmkfJTVc6W"
   },
   "source": [
    "### Important packages"
   ]
  },
  {
   "cell_type": "code",
   "execution_count": 1,
   "metadata": {
    "colab": {
     "base_uri": "https://localhost:8080/"
    },
    "executionInfo": {
     "elapsed": 7857,
     "status": "ok",
     "timestamp": 1650452522288,
     "user": {
      "displayName": "Yasin Shah",
      "userId": "09237257450268457439"
     },
     "user_tz": -330
    },
    "id": "W_mcz4W0bdc4",
    "outputId": "195445f3-ba89-4b3e-a518-7a1bb3331dc5"
   },
   "outputs": [
    {
     "name": "stdout",
     "output_type": "stream",
     "text": [
      "Requirement already satisfied: billboard.py in c:\\users\\shubham petkar\\anaconda3\\lib\\site-packages (7.0.0)\n",
      "Requirement already satisfied: beautifulsoup4>=4.4.1 in c:\\users\\shubham petkar\\anaconda3\\lib\\site-packages (from billboard.py) (4.11.1)\n",
      "Requirement already satisfied: requests>=2.2.1 in c:\\users\\shubham petkar\\anaconda3\\lib\\site-packages (from billboard.py) (2.27.1)\n",
      "Requirement already satisfied: soupsieve>1.2 in c:\\users\\shubham petkar\\anaconda3\\lib\\site-packages (from beautifulsoup4>=4.4.1->billboard.py) (2.3.1)\n",
      "Requirement already satisfied: certifi>=2017.4.17 in c:\\users\\shubham petkar\\anaconda3\\lib\\site-packages (from requests>=2.2.1->billboard.py) (2021.10.8)\n",
      "Requirement already satisfied: charset-normalizer~=2.0.0 in c:\\users\\shubham petkar\\anaconda3\\lib\\site-packages (from requests>=2.2.1->billboard.py) (2.0.4)\n",
      "Requirement already satisfied: idna<4,>=2.5 in c:\\users\\shubham petkar\\anaconda3\\lib\\site-packages (from requests>=2.2.1->billboard.py) (3.3)\n",
      "Requirement already satisfied: urllib3<1.27,>=1.21.1 in c:\\users\\shubham petkar\\anaconda3\\lib\\site-packages (from requests>=2.2.1->billboard.py) (1.26.9)\n",
      "Note: you may need to restart the kernel to use updated packages.\n"
     ]
    }
   ],
   "source": [
    "pip install billboard.py"
   ]
  },
  {
   "cell_type": "code",
   "execution_count": null,
   "metadata": {
    "id": "tghAbxVnoprh"
   },
   "outputs": [],
   "source": []
  },
  {
   "cell_type": "code",
   "execution_count": 2,
   "metadata": {
    "executionInfo": {
     "elapsed": 498,
     "status": "ok",
     "timestamp": 1650452866340,
     "user": {
      "displayName": "Yasin Shah",
      "userId": "09237257450268457439"
     },
     "user_tz": -330
    },
    "id": "jKkdLxPYVc6k"
   },
   "outputs": [],
   "source": [
    "# billboard to load data from Billboard.com\n",
    "import billboard\n",
    "# pandas to convert data into DataFrame\n",
    "import pandas as pd "
   ]
  },
  {
   "cell_type": "markdown",
   "metadata": {
    "id": "B_YcG58YVc6o"
   },
   "source": [
    "### Get top 10 artists from 2006 to 2021 \n",
    "- `artists:` top 10 artists in all years.\n",
    "- `year:` to use it when loading songs.\n",
    "- `cnt:` to stop itration when we get top 10 every year.\n",
    "- `chart:` data from Billboard which include artists names and title of songs "
   ]
  },
  {
   "cell_type": "code",
   "execution_count": 3,
   "metadata": {
    "colab": {
     "base_uri": "https://localhost:8080/"
    },
    "executionInfo": {
     "elapsed": 26541,
     "status": "ok",
     "timestamp": 1650452902177,
     "user": {
      "displayName": "Yasin Shah",
      "userId": "09237257450268457439"
     },
     "user_tz": -330
    },
    "id": "9RLmW1INVc6q",
    "outputId": "f03db8d9-061f-432e-8bcb-b78bde6f7ec5"
   },
   "outputs": [
    {
     "data": {
      "text/plain": [
       "80"
      ]
     },
     "execution_count": 3,
     "metadata": {},
     "output_type": "execute_result"
    }
   ],
   "source": [
    "artists = []\n",
    "year = 2021\n",
    "for y in range(2022-2006):\n",
    "    chart = billboard.ChartData('Top-Artists', year=year)\n",
    "    cnt = 0\n",
    "    for chr in chart:\n",
    "        cnt += 1\n",
    "        if chr.artist not in artists:\n",
    "                artists.append(chr.artist)\n",
    "        if cnt == 10:\n",
    "            break\n",
    "    \n",
    "    year -= 1\n",
    "\n",
    "len(artists)"
   ]
  },
  {
   "cell_type": "markdown",
   "metadata": {
    "id": "rkw_ZrtmVc6v"
   },
   "source": [
    "### Make a method to load data from Billboard\n",
    "<b>prameters: </b>\n",
    "- `type:` type of chart we get from Billboard.\n",
    "- `data:` list of dictionary we collocet data into.\n",
    "- `artists:` list of artists names.\n",
    "- `titles:` list of songs name use it to avoid repeat songs.\n",
    "- `year:` use it when collect popular data.\n",
    "- `date:` use it when collect unpopular data.\n",
    "- `year:` use it when collect popular data.\n",
    "- `label:` 1 if popular and 0 if unpopular."
   ]
  },
  {
   "cell_type": "code",
   "execution_count": 4,
   "metadata": {
    "executionInfo": {
     "elapsed": 478,
     "status": "ok",
     "timestamp": 1650453116928,
     "user": {
      "displayName": "Yasin Shah",
      "userId": "09237257450268457439"
     },
     "user_tz": -330
    },
    "id": "PXBjvDeXVc6w"
   },
   "outputs": [],
   "source": [
    "def getData(type, data, artists, titles, year=None, date=None, label=None):\n",
    "    if date==None:\n",
    "        HotChart = billboard.ChartData(type, year=year)\n",
    "    else:\n",
    "        HotChart = billboard.ChartData(type, date=date)\n",
    "    for hot in HotChart:\n",
    "        # To collect the name of artists that exists in the artist's list and choose another song for the same artist.\n",
    "        # This is to avoid repeat songs and enter artist doesn't exist in artists list.\n",
    "        if hot.title not in titles and hot.artist in artists:\n",
    "                titles.append(hot.title)\n",
    "                data.append({'Artist': hot.artist, 'Title': hot.title, 'Label': label})\n",
    "    \n",
    "    return data, titles"
   ]
  },
  {
   "cell_type": "markdown",
   "metadata": {
    "id": "WK4xX1s2Vc61"
   },
   "source": [
    "### Here we collect popular data from 2006 to 2021"
   ]
  },
  {
   "cell_type": "code",
   "execution_count": 5,
   "metadata": {
    "executionInfo": {
     "elapsed": 25256,
     "status": "ok",
     "timestamp": 1650453156890,
     "user": {
      "displayName": "Yasin Shah",
      "userId": "09237257450268457439"
     },
     "user_tz": -330
    },
    "id": "wj1Y0qq1Vc63"
   },
   "outputs": [],
   "source": [
    "data = []\n",
    "titles = []\n",
    "year = 2021\n",
    "for i in range(2022-2006):\n",
    "    data, titles = getData('Hot-100-Songs', data, artists, titles, year, label=1) # popular songs\n",
    "    year -= 1"
   ]
  },
  {
   "cell_type": "code",
   "execution_count": 6,
   "metadata": {
    "colab": {
     "base_uri": "https://localhost:8080/"
    },
    "executionInfo": {
     "elapsed": 488,
     "status": "ok",
     "timestamp": 1650453161838,
     "user": {
      "displayName": "Yasin Shah",
      "userId": "09237257450268457439"
     },
     "user_tz": -330
    },
    "id": "O9ug45eIVc7I",
    "outputId": "605a8694-71d5-4413-973a-4758d6c78b97"
   },
   "outputs": [
    {
     "name": "stdout",
     "output_type": "stream",
     "text": [
      "403\n",
      "80\n",
      "403\n"
     ]
    }
   ],
   "source": [
    "print(len(data))\n",
    "print(len(artists))\n",
    "print(len(titles))"
   ]
  },
  {
   "cell_type": "markdown",
   "metadata": {
    "id": "SJcaHipiVc7K"
   },
   "source": [
    "### Here I collect popular data from 2006 to 2021 I use another songs that I don't use in popular data\n",
    "I split the year into 4 splits to get a lot of songs with the same artists which I choose and used the same techniques for every year."
   ]
  },
  {
   "cell_type": "code",
   "execution_count": 7,
   "metadata": {
    "executionInfo": {
     "elapsed": 144273,
     "status": "ok",
     "timestamp": 1650453370814,
     "user": {
      "displayName": "Yasin Shah",
      "userId": "09237257450268457439"
     },
     "user_tz": -330
    },
    "id": "HhC5IeDHVc7M"
   },
   "outputs": [],
   "source": [
    "dates = ['2021-12-01','2021-08-01','2021-04-01','2021-01-01',\n",
    "        '2020-12-01','2020-08-01','2020-04-01','2020-01-01',\n",
    "        '2019-12-01','2019-08-01','2019-04-01','2019-01-01',\n",
    "        '2018-12-01','2018-08-01','2018-04-01','2018-01-01',\n",
    "        '2017-12-01','2017-08-01','2017-04-01','2017-01-01',\n",
    "        '2016-12-01','2016-08-01','2016-04-01','2016-01-01',\n",
    "        '2015-12-01','2015-08-01','2015-04-01','2015-01-01',\n",
    "        '2014-12-01','2014-08-01','2014-04-01','2014-01-01',\n",
    "        '2013-12-01','2013-08-01','2013-04-01','2013-01-01',\n",
    "        '2012-12-01','2012-08-01','2012-04-01','2012-01-01',\n",
    "        '2011-12-01','2011-08-01','2011-04-01','2011-01-01',\n",
    "        '2010-12-01','2010-08-01','2010-04-01','2010-01-01',\n",
    "        '2009-12-01','2009-08-01','2009-04-01','2009-01-01',\n",
    "        '2008-12-01','2008-08-01','2008-04-01','2008-01-01',\n",
    "        '2007-12-01','2007-08-01','2007-04-01','2007-01-01',\n",
    "        '2006-12-01','2006-08-01','2006-04-01','2006-01-01']\n",
    "for date in dates:\n",
    "    data, titles = getData('hot-100', data, artists, titles, date=date, label=0) # unpopular songs"
   ]
  },
  {
   "cell_type": "code",
   "execution_count": 8,
   "metadata": {
    "colab": {
     "base_uri": "https://localhost:8080/"
    },
    "executionInfo": {
     "elapsed": 497,
     "status": "ok",
     "timestamp": 1650453441694,
     "user": {
      "displayName": "Yasin Shah",
      "userId": "09237257450268457439"
     },
     "user_tz": -330
    },
    "id": "ce0C3ZA7Vc7O",
    "outputId": "ee10f410-6e9d-4f3f-95f3-b061b17a6a57"
   },
   "outputs": [
    {
     "name": "stdout",
     "output_type": "stream",
     "text": [
      "809\n",
      "80\n",
      "809\n"
     ]
    }
   ],
   "source": [
    "print(len(data))\n",
    "print(len(artists))\n",
    "print(len(titles))"
   ]
  },
  {
   "cell_type": "markdown",
   "metadata": {
    "id": "wgaK5IYsVc7P"
   },
   "source": [
    "### Convert data to dataframe by using pandas"
   ]
  },
  {
   "cell_type": "code",
   "execution_count": 9,
   "metadata": {
    "colab": {
     "base_uri": "https://localhost:8080/",
     "height": 655
    },
    "executionInfo": {
     "elapsed": 675,
     "status": "ok",
     "timestamp": 1650453494813,
     "user": {
      "displayName": "Yasin Shah",
      "userId": "09237257450268457439"
     },
     "user_tz": -330
    },
    "id": "UdL0aWmfVc7Q",
    "outputId": "4a2e3dd4-405c-4a43-df0b-8f7fa66ff16c"
   },
   "outputs": [
    {
     "data": {
      "text/html": [
       "<div>\n",
       "<style scoped>\n",
       "    .dataframe tbody tr th:only-of-type {\n",
       "        vertical-align: middle;\n",
       "    }\n",
       "\n",
       "    .dataframe tbody tr th {\n",
       "        vertical-align: top;\n",
       "    }\n",
       "\n",
       "    .dataframe thead th {\n",
       "        text-align: right;\n",
       "    }\n",
       "</style>\n",
       "<table border=\"1\" class=\"dataframe\">\n",
       "  <thead>\n",
       "    <tr style=\"text-align: right;\">\n",
       "      <th></th>\n",
       "      <th>Artist</th>\n",
       "      <th>Title</th>\n",
       "      <th>Label</th>\n",
       "    </tr>\n",
       "  </thead>\n",
       "  <tbody>\n",
       "    <tr>\n",
       "      <th>0</th>\n",
       "      <td>The Weeknd</td>\n",
       "      <td>Blinding Lights</td>\n",
       "      <td>1</td>\n",
       "    </tr>\n",
       "    <tr>\n",
       "      <th>1</th>\n",
       "      <td>Olivia Rodrigo</td>\n",
       "      <td>Good 4 U</td>\n",
       "      <td>1</td>\n",
       "    </tr>\n",
       "    <tr>\n",
       "      <th>2</th>\n",
       "      <td>Olivia Rodrigo</td>\n",
       "      <td>Drivers License</td>\n",
       "      <td>1</td>\n",
       "    </tr>\n",
       "    <tr>\n",
       "      <th>3</th>\n",
       "      <td>Lil Nas X</td>\n",
       "      <td>Montero (Call Me By Your Name)</td>\n",
       "      <td>1</td>\n",
       "    </tr>\n",
       "    <tr>\n",
       "      <th>4</th>\n",
       "      <td>BTS</td>\n",
       "      <td>Butter</td>\n",
       "      <td>1</td>\n",
       "    </tr>\n",
       "    <tr>\n",
       "      <th>...</th>\n",
       "      <td>...</td>\n",
       "      <td>...</td>\n",
       "      <td>...</td>\n",
       "    </tr>\n",
       "    <tr>\n",
       "      <th>804</th>\n",
       "      <td>Gwen Stefani</td>\n",
       "      <td>Luxurious</td>\n",
       "      <td>0</td>\n",
       "    </tr>\n",
       "    <tr>\n",
       "      <th>805</th>\n",
       "      <td>Rihanna</td>\n",
       "      <td>If It's Lovin' That You Want</td>\n",
       "      <td>0</td>\n",
       "    </tr>\n",
       "    <tr>\n",
       "      <th>806</th>\n",
       "      <td>Lil Wayne</td>\n",
       "      <td>Fireman</td>\n",
       "      <td>0</td>\n",
       "    </tr>\n",
       "    <tr>\n",
       "      <th>807</th>\n",
       "      <td>Alicia Keys</td>\n",
       "      <td>Unbreakable</td>\n",
       "      <td>0</td>\n",
       "    </tr>\n",
       "    <tr>\n",
       "      <th>808</th>\n",
       "      <td>Rascal Flatts</td>\n",
       "      <td>Skin (Sarabeth)</td>\n",
       "      <td>0</td>\n",
       "    </tr>\n",
       "  </tbody>\n",
       "</table>\n",
       "<p>809 rows × 3 columns</p>\n",
       "</div>"
      ],
      "text/plain": [
       "             Artist                           Title  Label\n",
       "0        The Weeknd                 Blinding Lights      1\n",
       "1    Olivia Rodrigo                        Good 4 U      1\n",
       "2    Olivia Rodrigo                 Drivers License      1\n",
       "3         Lil Nas X  Montero (Call Me By Your Name)      1\n",
       "4               BTS                          Butter      1\n",
       "..              ...                             ...    ...\n",
       "804    Gwen Stefani                       Luxurious      0\n",
       "805         Rihanna    If It's Lovin' That You Want      0\n",
       "806       Lil Wayne                         Fireman      0\n",
       "807     Alicia Keys                     Unbreakable      0\n",
       "808   Rascal Flatts                 Skin (Sarabeth)      0\n",
       "\n",
       "[809 rows x 3 columns]"
      ]
     },
     "execution_count": 9,
     "metadata": {},
     "output_type": "execute_result"
    }
   ],
   "source": [
    "df = pd.DataFrame(data)\n",
    "df"
   ]
  },
  {
   "cell_type": "code",
   "execution_count": 10,
   "metadata": {
    "id": "mDprsDp6Vc7S",
    "outputId": "0e845d45-2703-4cb8-eb40-cbda545813d3"
   },
   "outputs": [
    {
     "data": {
      "text/html": [
       "<div>\n",
       "<style scoped>\n",
       "    .dataframe tbody tr th:only-of-type {\n",
       "        vertical-align: middle;\n",
       "    }\n",
       "\n",
       "    .dataframe tbody tr th {\n",
       "        vertical-align: top;\n",
       "    }\n",
       "\n",
       "    .dataframe thead th {\n",
       "        text-align: right;\n",
       "    }\n",
       "</style>\n",
       "<table border=\"1\" class=\"dataframe\">\n",
       "  <thead>\n",
       "    <tr style=\"text-align: right;\">\n",
       "      <th></th>\n",
       "      <th>Artist</th>\n",
       "      <th>Title</th>\n",
       "      <th>Label</th>\n",
       "    </tr>\n",
       "  </thead>\n",
       "  <tbody>\n",
       "    <tr>\n",
       "      <th>0</th>\n",
       "      <td>The Weeknd</td>\n",
       "      <td>Blinding Lights</td>\n",
       "      <td>1</td>\n",
       "    </tr>\n",
       "    <tr>\n",
       "      <th>23</th>\n",
       "      <td>The Weeknd</td>\n",
       "      <td>Take My Breath</td>\n",
       "      <td>1</td>\n",
       "    </tr>\n",
       "    <tr>\n",
       "      <th>32</th>\n",
       "      <td>The Weeknd</td>\n",
       "      <td>Heartless</td>\n",
       "      <td>1</td>\n",
       "    </tr>\n",
       "    <tr>\n",
       "      <th>98</th>\n",
       "      <td>The Weeknd</td>\n",
       "      <td>Call Out My Name</td>\n",
       "      <td>1</td>\n",
       "    </tr>\n",
       "    <tr>\n",
       "      <th>139</th>\n",
       "      <td>The Weeknd</td>\n",
       "      <td>The Hills</td>\n",
       "      <td>1</td>\n",
       "    </tr>\n",
       "    <tr>\n",
       "      <th>145</th>\n",
       "      <td>The Weeknd</td>\n",
       "      <td>In The Night</td>\n",
       "      <td>1</td>\n",
       "    </tr>\n",
       "    <tr>\n",
       "      <th>148</th>\n",
       "      <td>The Weeknd</td>\n",
       "      <td>Can't Feel My Face</td>\n",
       "      <td>1</td>\n",
       "    </tr>\n",
       "    <tr>\n",
       "      <th>160</th>\n",
       "      <td>The Weeknd</td>\n",
       "      <td>Earned It (Fifty Shades Of Grey)</td>\n",
       "      <td>1</td>\n",
       "    </tr>\n",
       "    <tr>\n",
       "      <th>481</th>\n",
       "      <td>The Weeknd</td>\n",
       "      <td>In Your Eyes</td>\n",
       "      <td>0</td>\n",
       "    </tr>\n",
       "    <tr>\n",
       "      <th>482</th>\n",
       "      <td>The Weeknd</td>\n",
       "      <td>Alone Again</td>\n",
       "      <td>0</td>\n",
       "    </tr>\n",
       "    <tr>\n",
       "      <th>483</th>\n",
       "      <td>The Weeknd</td>\n",
       "      <td>After Hours</td>\n",
       "      <td>0</td>\n",
       "    </tr>\n",
       "    <tr>\n",
       "      <th>484</th>\n",
       "      <td>The Weeknd</td>\n",
       "      <td>Scared To Live</td>\n",
       "      <td>0</td>\n",
       "    </tr>\n",
       "    <tr>\n",
       "      <th>485</th>\n",
       "      <td>The Weeknd</td>\n",
       "      <td>Hardest To Love</td>\n",
       "      <td>0</td>\n",
       "    </tr>\n",
       "    <tr>\n",
       "      <th>487</th>\n",
       "      <td>The Weeknd</td>\n",
       "      <td>Too Late</td>\n",
       "      <td>0</td>\n",
       "    </tr>\n",
       "    <tr>\n",
       "      <th>488</th>\n",
       "      <td>The Weeknd</td>\n",
       "      <td>Snowchild</td>\n",
       "      <td>0</td>\n",
       "    </tr>\n",
       "    <tr>\n",
       "      <th>489</th>\n",
       "      <td>The Weeknd</td>\n",
       "      <td>Escape From LA</td>\n",
       "      <td>0</td>\n",
       "    </tr>\n",
       "    <tr>\n",
       "      <th>490</th>\n",
       "      <td>The Weeknd</td>\n",
       "      <td>Faith</td>\n",
       "      <td>0</td>\n",
       "    </tr>\n",
       "    <tr>\n",
       "      <th>491</th>\n",
       "      <td>The Weeknd</td>\n",
       "      <td>Repeat After Me (Interlude)</td>\n",
       "      <td>0</td>\n",
       "    </tr>\n",
       "    <tr>\n",
       "      <th>493</th>\n",
       "      <td>The Weeknd</td>\n",
       "      <td>Until I Bleed Out</td>\n",
       "      <td>0</td>\n",
       "    </tr>\n",
       "    <tr>\n",
       "      <th>555</th>\n",
       "      <td>The Weeknd</td>\n",
       "      <td>Reminder</td>\n",
       "      <td>0</td>\n",
       "    </tr>\n",
       "    <tr>\n",
       "      <th>561</th>\n",
       "      <td>The Weeknd</td>\n",
       "      <td>Party Monster</td>\n",
       "      <td>0</td>\n",
       "    </tr>\n",
       "    <tr>\n",
       "      <th>564</th>\n",
       "      <td>The Weeknd</td>\n",
       "      <td>Six Feet Under</td>\n",
       "      <td>0</td>\n",
       "    </tr>\n",
       "    <tr>\n",
       "      <th>577</th>\n",
       "      <td>The Weeknd</td>\n",
       "      <td>Acquainted</td>\n",
       "      <td>0</td>\n",
       "    </tr>\n",
       "    <tr>\n",
       "      <th>619</th>\n",
       "      <td>The Weeknd</td>\n",
       "      <td>Often</td>\n",
       "      <td>0</td>\n",
       "    </tr>\n",
       "    <tr>\n",
       "      <th>667</th>\n",
       "      <td>The Weeknd</td>\n",
       "      <td>Wicked Games</td>\n",
       "      <td>0</td>\n",
       "    </tr>\n",
       "  </tbody>\n",
       "</table>\n",
       "</div>"
      ],
      "text/plain": [
       "         Artist                             Title  Label\n",
       "0    The Weeknd                   Blinding Lights      1\n",
       "23   The Weeknd                    Take My Breath      1\n",
       "32   The Weeknd                         Heartless      1\n",
       "98   The Weeknd                  Call Out My Name      1\n",
       "139  The Weeknd                         The Hills      1\n",
       "145  The Weeknd                      In The Night      1\n",
       "148  The Weeknd                Can't Feel My Face      1\n",
       "160  The Weeknd  Earned It (Fifty Shades Of Grey)      1\n",
       "481  The Weeknd                      In Your Eyes      0\n",
       "482  The Weeknd                       Alone Again      0\n",
       "483  The Weeknd                       After Hours      0\n",
       "484  The Weeknd                    Scared To Live      0\n",
       "485  The Weeknd                   Hardest To Love      0\n",
       "487  The Weeknd                          Too Late      0\n",
       "488  The Weeknd                         Snowchild      0\n",
       "489  The Weeknd                    Escape From LA      0\n",
       "490  The Weeknd                             Faith      0\n",
       "491  The Weeknd       Repeat After Me (Interlude)      0\n",
       "493  The Weeknd                 Until I Bleed Out      0\n",
       "555  The Weeknd                          Reminder      0\n",
       "561  The Weeknd                     Party Monster      0\n",
       "564  The Weeknd                    Six Feet Under      0\n",
       "577  The Weeknd                        Acquainted      0\n",
       "619  The Weeknd                             Often      0\n",
       "667  The Weeknd                      Wicked Games      0"
      ]
     },
     "execution_count": 10,
     "metadata": {},
     "output_type": "execute_result"
    }
   ],
   "source": [
    "df[df['Artist']=='The Weeknd']"
   ]
  },
  {
   "cell_type": "code",
   "execution_count": 11,
   "metadata": {
    "colab": {
     "base_uri": "https://localhost:8080/"
    },
    "executionInfo": {
     "elapsed": 471,
     "status": "ok",
     "timestamp": 1650453580739,
     "user": {
      "displayName": "Yasin Shah",
      "userId": "09237257450268457439"
     },
     "user_tz": -330
    },
    "id": "rP4yCBEDVc7U",
    "outputId": "e35457a1-4b47-47b7-c7b9-c3af8e2eaae0"
   },
   "outputs": [
    {
     "data": {
      "text/plain": [
       "(809, 3)"
      ]
     },
     "execution_count": 11,
     "metadata": {},
     "output_type": "execute_result"
    }
   ],
   "source": [
    "df.shape"
   ]
  },
  {
   "cell_type": "markdown",
   "metadata": {
    "id": "ykDjSc9_Vc7V"
   },
   "source": [
    "### Save data as csv file"
   ]
  },
  {
   "cell_type": "code",
   "execution_count": 12,
   "metadata": {
    "executionInfo": {
     "elapsed": 12,
     "status": "ok",
     "timestamp": 1650453587990,
     "user": {
      "displayName": "Yasin Shah",
      "userId": "09237257450268457439"
     },
     "user_tz": -330
    },
    "id": "2K4yaw_aVc7Y"
   },
   "outputs": [],
   "source": [
    "df.to_csv('Billboard.csv', index=False)"
   ]
  },
  {
   "cell_type": "code",
   "execution_count": 13,
   "metadata": {
    "colab": {
     "base_uri": "https://localhost:8080/",
     "height": 424
    },
    "executionInfo": {
     "elapsed": 773,
     "status": "ok",
     "timestamp": 1650453596132,
     "user": {
      "displayName": "Yasin Shah",
      "userId": "09237257450268457439"
     },
     "user_tz": -330
    },
    "id": "Dxxq03tAVc7Z",
    "outputId": "00e617f1-087a-454b-a76b-73c0033de716"
   },
   "outputs": [
    {
     "data": {
      "text/html": [
       "<div>\n",
       "<style scoped>\n",
       "    .dataframe tbody tr th:only-of-type {\n",
       "        vertical-align: middle;\n",
       "    }\n",
       "\n",
       "    .dataframe tbody tr th {\n",
       "        vertical-align: top;\n",
       "    }\n",
       "\n",
       "    .dataframe thead th {\n",
       "        text-align: right;\n",
       "    }\n",
       "</style>\n",
       "<table border=\"1\" class=\"dataframe\">\n",
       "  <thead>\n",
       "    <tr style=\"text-align: right;\">\n",
       "      <th></th>\n",
       "      <th>Artist</th>\n",
       "      <th>Title</th>\n",
       "      <th>Label</th>\n",
       "    </tr>\n",
       "  </thead>\n",
       "  <tbody>\n",
       "    <tr>\n",
       "      <th>0</th>\n",
       "      <td>The Weeknd</td>\n",
       "      <td>Blinding Lights</td>\n",
       "      <td>1</td>\n",
       "    </tr>\n",
       "    <tr>\n",
       "      <th>1</th>\n",
       "      <td>Olivia Rodrigo</td>\n",
       "      <td>Good 4 U</td>\n",
       "      <td>1</td>\n",
       "    </tr>\n",
       "    <tr>\n",
       "      <th>2</th>\n",
       "      <td>Olivia Rodrigo</td>\n",
       "      <td>Drivers License</td>\n",
       "      <td>1</td>\n",
       "    </tr>\n",
       "    <tr>\n",
       "      <th>3</th>\n",
       "      <td>Lil Nas X</td>\n",
       "      <td>Montero (Call Me By Your Name)</td>\n",
       "      <td>1</td>\n",
       "    </tr>\n",
       "    <tr>\n",
       "      <th>4</th>\n",
       "      <td>BTS</td>\n",
       "      <td>Butter</td>\n",
       "      <td>1</td>\n",
       "    </tr>\n",
       "    <tr>\n",
       "      <th>...</th>\n",
       "      <td>...</td>\n",
       "      <td>...</td>\n",
       "      <td>...</td>\n",
       "    </tr>\n",
       "    <tr>\n",
       "      <th>804</th>\n",
       "      <td>Gwen Stefani</td>\n",
       "      <td>Luxurious</td>\n",
       "      <td>0</td>\n",
       "    </tr>\n",
       "    <tr>\n",
       "      <th>805</th>\n",
       "      <td>Rihanna</td>\n",
       "      <td>If It's Lovin' That You Want</td>\n",
       "      <td>0</td>\n",
       "    </tr>\n",
       "    <tr>\n",
       "      <th>806</th>\n",
       "      <td>Lil Wayne</td>\n",
       "      <td>Fireman</td>\n",
       "      <td>0</td>\n",
       "    </tr>\n",
       "    <tr>\n",
       "      <th>807</th>\n",
       "      <td>Alicia Keys</td>\n",
       "      <td>Unbreakable</td>\n",
       "      <td>0</td>\n",
       "    </tr>\n",
       "    <tr>\n",
       "      <th>808</th>\n",
       "      <td>Rascal Flatts</td>\n",
       "      <td>Skin (Sarabeth)</td>\n",
       "      <td>0</td>\n",
       "    </tr>\n",
       "  </tbody>\n",
       "</table>\n",
       "<p>809 rows × 3 columns</p>\n",
       "</div>"
      ],
      "text/plain": [
       "             Artist                           Title  Label\n",
       "0        The Weeknd                 Blinding Lights      1\n",
       "1    Olivia Rodrigo                        Good 4 U      1\n",
       "2    Olivia Rodrigo                 Drivers License      1\n",
       "3         Lil Nas X  Montero (Call Me By Your Name)      1\n",
       "4               BTS                          Butter      1\n",
       "..              ...                             ...    ...\n",
       "804    Gwen Stefani                       Luxurious      0\n",
       "805         Rihanna    If It's Lovin' That You Want      0\n",
       "806       Lil Wayne                         Fireman      0\n",
       "807     Alicia Keys                     Unbreakable      0\n",
       "808   Rascal Flatts                 Skin (Sarabeth)      0\n",
       "\n",
       "[809 rows x 3 columns]"
      ]
     },
     "execution_count": 13,
     "metadata": {},
     "output_type": "execute_result"
    }
   ],
   "source": [
    "dataset = pd.read_csv('Billboard.csv')\n",
    "dataset"
   ]
  },
  {
   "cell_type": "markdown",
   "metadata": {
    "id": "_x7IXkNBVc7a"
   },
   "source": [
    "# Download Music File"
   ]
  },
  {
   "cell_type": "code",
   "execution_count": 14,
   "metadata": {},
   "outputs": [
    {
     "name": "stdout",
     "output_type": "stream",
     "text": [
      "Requirement already satisfied: yt_dlp in c:\\users\\shubham petkar\\anaconda3\\lib\\site-packages (2022.9.1)\n",
      "Requirement already satisfied: websockets in c:\\users\\shubham petkar\\anaconda3\\lib\\site-packages (from yt_dlp) (10.3)\n",
      "Requirement already satisfied: pycryptodomex in c:\\users\\shubham petkar\\anaconda3\\lib\\site-packages (from yt_dlp) (3.15.0)\n",
      "Requirement already satisfied: certifi in c:\\users\\shubham petkar\\anaconda3\\lib\\site-packages (from yt_dlp) (2021.10.8)\n",
      "Requirement already satisfied: mutagen in c:\\users\\shubham petkar\\anaconda3\\lib\\site-packages (from yt_dlp) (1.45.1)\n",
      "Requirement already satisfied: brotli in c:\\users\\shubham petkar\\anaconda3\\lib\\site-packages (from yt_dlp) (1.0.9)\n",
      "Note: you may need to restart the kernel to use updated packages.\n"
     ]
    }
   ],
   "source": [
    "pip install yt_dlp"
   ]
  },
  {
   "cell_type": "code",
   "execution_count": 15,
   "metadata": {},
   "outputs": [],
   "source": [
    "import youtube_dl # slow \n",
    "import pandas as pd\n",
    "import yt_dlp\n",
    "import pickle\n",
    "from __future__ import unicode_literals"
   ]
  },
  {
   "cell_type": "code",
   "execution_count": 16,
   "metadata": {},
   "outputs": [
    {
     "data": {
      "text/html": [
       "<div>\n",
       "<style scoped>\n",
       "    .dataframe tbody tr th:only-of-type {\n",
       "        vertical-align: middle;\n",
       "    }\n",
       "\n",
       "    .dataframe tbody tr th {\n",
       "        vertical-align: top;\n",
       "    }\n",
       "\n",
       "    .dataframe thead th {\n",
       "        text-align: right;\n",
       "    }\n",
       "</style>\n",
       "<table border=\"1\" class=\"dataframe\">\n",
       "  <thead>\n",
       "    <tr style=\"text-align: right;\">\n",
       "      <th></th>\n",
       "      <th>Artist</th>\n",
       "      <th>Title</th>\n",
       "      <th>Label</th>\n",
       "    </tr>\n",
       "  </thead>\n",
       "  <tbody>\n",
       "    <tr>\n",
       "      <th>0</th>\n",
       "      <td>The Weeknd</td>\n",
       "      <td>Blinding Lights</td>\n",
       "      <td>1</td>\n",
       "    </tr>\n",
       "    <tr>\n",
       "      <th>1</th>\n",
       "      <td>Olivia Rodrigo</td>\n",
       "      <td>Good 4 U</td>\n",
       "      <td>1</td>\n",
       "    </tr>\n",
       "    <tr>\n",
       "      <th>2</th>\n",
       "      <td>Olivia Rodrigo</td>\n",
       "      <td>Drivers License</td>\n",
       "      <td>1</td>\n",
       "    </tr>\n",
       "    <tr>\n",
       "      <th>3</th>\n",
       "      <td>Lil Nas X</td>\n",
       "      <td>Montero (Call Me By Your Name)</td>\n",
       "      <td>1</td>\n",
       "    </tr>\n",
       "    <tr>\n",
       "      <th>4</th>\n",
       "      <td>BTS</td>\n",
       "      <td>Butter</td>\n",
       "      <td>1</td>\n",
       "    </tr>\n",
       "  </tbody>\n",
       "</table>\n",
       "</div>"
      ],
      "text/plain": [
       "           Artist                           Title  Label\n",
       "0      The Weeknd                 Blinding Lights      1\n",
       "1  Olivia Rodrigo                        Good 4 U      1\n",
       "2  Olivia Rodrigo                 Drivers License      1\n",
       "3       Lil Nas X  Montero (Call Me By Your Name)      1\n",
       "4             BTS                          Butter      1"
      ]
     },
     "execution_count": 16,
     "metadata": {},
     "output_type": "execute_result"
    }
   ],
   "source": [
    "#read in csv data \n",
    "import os \n",
    "pwd = os.getcwd()\n",
    "csv_path = os.path.join(pwd, 'Billboard.csv')\n",
    "data = pd.read_csv(csv_path)\n",
    "df = data.copy()\n",
    "df.head()"
   ]
  },
  {
   "cell_type": "code",
   "execution_count": 21,
   "metadata": {},
   "outputs": [
    {
     "data": {
      "text/plain": [
       "406"
      ]
     },
     "execution_count": 21,
     "metadata": {},
     "output_type": "execute_result"
    }
   ],
   "source": [
    "popular_song_titles = list(df.loc[df['Label']==1, 'Title']) # list of song titles on popular chart \n",
    "unpopular_song_titles = list(df.loc[df['Label']==0, 'Title']) # list for songs on unpopular chart\n",
    "popular_artists = list(df.loc[df['Label']==1, 'Artist'])  #list for artists on popular chart\n",
    "unpopular_artists = list(df.loc[df['Label']==0, 'Artist'])  #list for artists on unpopular chart \n",
    "len(unpopular_song_titles)"
   ]
  },
  {
   "cell_type": "code",
   "execution_count": 18,
   "metadata": {},
   "outputs": [],
   "source": [
    "popular_links_path = '/home/bee_nyah/Desktop/TECHNOCOLABS /Jan Internship/Project - Predicting Hit Songs Using Repeated Chorus/popular'\n",
    "unpopular_links_path = '/home/bee_nyah/Desktop/TECHNOCOLABS /Jan Internship/Project - Predicting Hit Songs Using Repeated Chorus/unpopular'"
   ]
  },
  {
   "cell_type": "markdown",
   "metadata": {},
   "source": [
    "# Download full songs with popular song titles"
   ]
  },
  {
   "cell_type": "code",
   "execution_count": 19,
   "metadata": {},
   "outputs": [
    {
     "ename": "FileNotFoundError",
     "evalue": "[WinError 3] The system cannot find the path specified: 'C:\\\\Users\\\\Shubham Petkar\\\\popular'",
     "output_type": "error",
     "traceback": [
      "\u001b[1;31m---------------------------------------------------------------------------\u001b[0m",
      "\u001b[1;31mFileNotFoundError\u001b[0m                         Traceback (most recent call last)",
      "Input \u001b[1;32mIn [19]\u001b[0m, in \u001b[0;36m<cell line: 2>\u001b[1;34m()\u001b[0m\n\u001b[0;32m      1\u001b[0m popular_downloaded_dir \u001b[38;5;241m=\u001b[39m os\u001b[38;5;241m.\u001b[39mpath\u001b[38;5;241m.\u001b[39mjoin(pwd, \u001b[38;5;124m'\u001b[39m\u001b[38;5;124mpopular\u001b[39m\u001b[38;5;124m'\u001b[39m) \u001b[38;5;66;03m# path to already downloaded popular songs\u001b[39;00m\n\u001b[1;32m----> 2\u001b[0m popular_songs_downloaded \u001b[38;5;241m=\u001b[39m \u001b[43mos\u001b[49m\u001b[38;5;241;43m.\u001b[39;49m\u001b[43mlistdir\u001b[49m\u001b[43m(\u001b[49m\u001b[43mpopular_downloaded_dir\u001b[49m\u001b[43m)\u001b[49m \u001b[38;5;66;03m# list of already downloaded popular songs \u001b[39;00m\n\u001b[0;32m      3\u001b[0m popular_songs_downloaded \u001b[38;5;241m=\u001b[39m [song\u001b[38;5;241m.\u001b[39mreplace(\u001b[38;5;124m'\u001b[39m\u001b[38;5;124m.mp3\u001b[39m\u001b[38;5;124m'\u001b[39m,\u001b[38;5;124m'\u001b[39m\u001b[38;5;124m'\u001b[39m) \u001b[38;5;28;01mfor\u001b[39;00m song \u001b[38;5;129;01min\u001b[39;00m popular_songs_downloaded] \u001b[38;5;66;03m# get song names from already downloaded list\u001b[39;00m\n\u001b[0;32m      4\u001b[0m \u001b[38;5;28mlen\u001b[39m(popular_songs_downloaded)\n",
      "\u001b[1;31mFileNotFoundError\u001b[0m: [WinError 3] The system cannot find the path specified: 'C:\\\\Users\\\\Shubham Petkar\\\\popular'"
     ]
    }
   ],
   "source": [
    "popular_downloaded_dir = os.path.join(pwd, 'popular') # path to already downloaded popular songs\n",
    "popular_songs_downloaded = os.listdir(popular_downloaded_dir) # list of already downloaded popular songs \n",
    "popular_songs_downloaded = [song.replace('.mp3','') for song in popular_songs_downloaded] # get song names from already downloaded list\n",
    "len(popular_songs_downloaded)"
   ]
  },
  {
   "cell_type": "code",
   "execution_count": null,
   "metadata": {},
   "outputs": [],
   "source": [
    "for song, artist in zip(popular_song_titles[:], popular_artists[:]): # iterate through the popular songs to download \n",
    "    if song not in popular_songs_downloaded: # check if song is already downloaded \n",
    "        #print(song)\n",
    "        download_audio(song ,artist,'popular', popular_links_path)\n",
    "    else:\n",
    "        print('song already exists')"
   ]
  },
  {
   "cell_type": "markdown",
   "metadata": {},
   "source": [
    "# Download full song unpopular song title"
   ]
  },
  {
   "cell_type": "code",
   "execution_count": null,
   "metadata": {},
   "outputs": [],
   "source": [
    "unpopular_downloaded_dir = os.path.join(pwd, 'unpopular') # path to already downloaded unpopular songs\n",
    "unpopular_songs_downloaded = os.listdir(unpopular_downloaded_dir) # list of already downloaded unpopular songs \n",
    "unpopular_songs_downloaded = [song.replace('.mp3','') for song in unpopular_songs_downloaded] # get song names from already downloaded list\n",
    "len(unpopular_songs_downloaded)"
   ]
  },
  {
   "cell_type": "code",
   "execution_count": null,
   "metadata": {},
   "outputs": [],
   "source": [
    "for song, artist in zip(unpopular_song_titles[:], unpopular_artists[:]):\n",
    "    if song not in unpopular_songs_downloaded:\n",
    "        #print(song)\n",
    "        download_audio(song ,artist,'unpopular', unpopular_links_path)\n",
    "    else:\n",
    "        print('song already exists')"
   ]
  },
  {
   "cell_type": "code",
   "execution_count": 22,
   "metadata": {},
   "outputs": [
    {
     "ename": "NameError",
     "evalue": "name 'unpopular_songs_downloaded' is not defined",
     "output_type": "error",
     "traceback": [
      "\u001b[1;31m---------------------------------------------------------------------------\u001b[0m",
      "\u001b[1;31mNameError\u001b[0m                                 Traceback (most recent call last)",
      "Input \u001b[1;32mIn [22]\u001b[0m, in \u001b[0;36m<cell line: 1>\u001b[1;34m()\u001b[0m\n\u001b[0;32m      1\u001b[0m \u001b[38;5;28;01mfor\u001b[39;00m song \u001b[38;5;129;01min\u001b[39;00m unpopular_song_titles:\n\u001b[1;32m----> 2\u001b[0m     \u001b[38;5;28;01mif\u001b[39;00m song \u001b[38;5;129;01min\u001b[39;00m \u001b[43munpopular_songs_downloaded\u001b[49m:\n\u001b[0;32m      3\u001b[0m         song_path\u001b[38;5;241m.\u001b[39mappend(\u001b[38;5;124mf\u001b[39m\u001b[38;5;124m'\u001b[39m\u001b[38;5;124munpopular/\u001b[39m\u001b[38;5;132;01m{\u001b[39;00msong\u001b[38;5;132;01m}\u001b[39;00m\u001b[38;5;124m.mp3\u001b[39m\u001b[38;5;124m'\u001b[39m) \u001b[38;5;66;03m# add unpopular downloaded songs to song path list \u001b[39;00m\n\u001b[0;32m      4\u001b[0m     \u001b[38;5;28;01melse\u001b[39;00m:\n",
      "\u001b[1;31mNameError\u001b[0m: name 'unpopular_songs_downloaded' is not defined"
     ]
    }
   ],
   "source": [
    "for song in unpopular_song_titles:\n",
    "    if song in unpopular_songs_downloaded:\n",
    "        song_path.append(f'unpopular/{song}.mp3') # add unpopular downloaded songs to song path list \n",
    "    else:\n",
    "        song_path.append(f'n/a')"
   ]
  },
  {
   "cell_type": "code",
   "execution_count": 23,
   "metadata": {},
   "outputs": [
    {
     "ename": "NameError",
     "evalue": "name 'song_path' is not defined",
     "output_type": "error",
     "traceback": [
      "\u001b[1;31m---------------------------------------------------------------------------\u001b[0m",
      "\u001b[1;31mNameError\u001b[0m                                 Traceback (most recent call last)",
      "Input \u001b[1;32mIn [23]\u001b[0m, in \u001b[0;36m<cell line: 1>\u001b[1;34m()\u001b[0m\n\u001b[1;32m----> 1\u001b[0m \u001b[43msong_path\u001b[49m\n",
      "\u001b[1;31mNameError\u001b[0m: name 'song_path' is not defined"
     ]
    }
   ],
   "source": [
    "song_path"
   ]
  },
  {
   "cell_type": "code",
   "execution_count": 24,
   "metadata": {},
   "outputs": [
    {
     "ename": "NameError",
     "evalue": "name 'song_path' is not defined",
     "output_type": "error",
     "traceback": [
      "\u001b[1;31m---------------------------------------------------------------------------\u001b[0m",
      "\u001b[1;31mNameError\u001b[0m                                 Traceback (most recent call last)",
      "Input \u001b[1;32mIn [24]\u001b[0m, in \u001b[0;36m<cell line: 1>\u001b[1;34m()\u001b[0m\n\u001b[1;32m----> 1\u001b[0m \u001b[38;5;28mlen\u001b[39m(\u001b[43msong_path\u001b[49m)\n",
      "\u001b[1;31mNameError\u001b[0m: name 'song_path' is not defined"
     ]
    }
   ],
   "source": [
    "len(song_path)"
   ]
  },
  {
   "cell_type": "code",
   "execution_count": 25,
   "metadata": {},
   "outputs": [
    {
     "ename": "NameError",
     "evalue": "name 'song_path' is not defined",
     "output_type": "error",
     "traceback": [
      "\u001b[1;31m---------------------------------------------------------------------------\u001b[0m",
      "\u001b[1;31mNameError\u001b[0m                                 Traceback (most recent call last)",
      "Input \u001b[1;32mIn [25]\u001b[0m, in \u001b[0;36m<cell line: 1>\u001b[1;34m()\u001b[0m\n\u001b[1;32m----> 1\u001b[0m df \u001b[38;5;241m=\u001b[39mdf\u001b[38;5;241m.\u001b[39massign(song_path\u001b[38;5;241m=\u001b[39m\u001b[43msong_path\u001b[49m)\n",
      "\u001b[1;31mNameError\u001b[0m: name 'song_path' is not defined"
     ]
    }
   ],
   "source": [
    "df =df.assign(song_path=song_path) # add new list to existing data table"
   ]
  },
  {
   "cell_type": "code",
   "execution_count": 26,
   "metadata": {},
   "outputs": [
    {
     "data": {
      "text/html": [
       "<div>\n",
       "<style scoped>\n",
       "    .dataframe tbody tr th:only-of-type {\n",
       "        vertical-align: middle;\n",
       "    }\n",
       "\n",
       "    .dataframe tbody tr th {\n",
       "        vertical-align: top;\n",
       "    }\n",
       "\n",
       "    .dataframe thead th {\n",
       "        text-align: right;\n",
       "    }\n",
       "</style>\n",
       "<table border=\"1\" class=\"dataframe\">\n",
       "  <thead>\n",
       "    <tr style=\"text-align: right;\">\n",
       "      <th></th>\n",
       "      <th>Artist</th>\n",
       "      <th>Title</th>\n",
       "      <th>Label</th>\n",
       "    </tr>\n",
       "  </thead>\n",
       "  <tbody>\n",
       "    <tr>\n",
       "      <th>0</th>\n",
       "      <td>The Weeknd</td>\n",
       "      <td>Blinding Lights</td>\n",
       "      <td>1</td>\n",
       "    </tr>\n",
       "    <tr>\n",
       "      <th>1</th>\n",
       "      <td>Olivia Rodrigo</td>\n",
       "      <td>Good 4 U</td>\n",
       "      <td>1</td>\n",
       "    </tr>\n",
       "    <tr>\n",
       "      <th>2</th>\n",
       "      <td>Olivia Rodrigo</td>\n",
       "      <td>Drivers License</td>\n",
       "      <td>1</td>\n",
       "    </tr>\n",
       "    <tr>\n",
       "      <th>3</th>\n",
       "      <td>Lil Nas X</td>\n",
       "      <td>Montero (Call Me By Your Name)</td>\n",
       "      <td>1</td>\n",
       "    </tr>\n",
       "    <tr>\n",
       "      <th>4</th>\n",
       "      <td>BTS</td>\n",
       "      <td>Butter</td>\n",
       "      <td>1</td>\n",
       "    </tr>\n",
       "    <tr>\n",
       "      <th>...</th>\n",
       "      <td>...</td>\n",
       "      <td>...</td>\n",
       "      <td>...</td>\n",
       "    </tr>\n",
       "    <tr>\n",
       "      <th>804</th>\n",
       "      <td>Gwen Stefani</td>\n",
       "      <td>Luxurious</td>\n",
       "      <td>0</td>\n",
       "    </tr>\n",
       "    <tr>\n",
       "      <th>805</th>\n",
       "      <td>Rihanna</td>\n",
       "      <td>If It's Lovin' That You Want</td>\n",
       "      <td>0</td>\n",
       "    </tr>\n",
       "    <tr>\n",
       "      <th>806</th>\n",
       "      <td>Lil Wayne</td>\n",
       "      <td>Fireman</td>\n",
       "      <td>0</td>\n",
       "    </tr>\n",
       "    <tr>\n",
       "      <th>807</th>\n",
       "      <td>Alicia Keys</td>\n",
       "      <td>Unbreakable</td>\n",
       "      <td>0</td>\n",
       "    </tr>\n",
       "    <tr>\n",
       "      <th>808</th>\n",
       "      <td>Rascal Flatts</td>\n",
       "      <td>Skin (Sarabeth)</td>\n",
       "      <td>0</td>\n",
       "    </tr>\n",
       "  </tbody>\n",
       "</table>\n",
       "<p>809 rows × 3 columns</p>\n",
       "</div>"
      ],
      "text/plain": [
       "             Artist                           Title  Label\n",
       "0        The Weeknd                 Blinding Lights      1\n",
       "1    Olivia Rodrigo                        Good 4 U      1\n",
       "2    Olivia Rodrigo                 Drivers License      1\n",
       "3         Lil Nas X  Montero (Call Me By Your Name)      1\n",
       "4               BTS                          Butter      1\n",
       "..              ...                             ...    ...\n",
       "804    Gwen Stefani                       Luxurious      0\n",
       "805         Rihanna    If It's Lovin' That You Want      0\n",
       "806       Lil Wayne                         Fireman      0\n",
       "807     Alicia Keys                     Unbreakable      0\n",
       "808   Rascal Flatts                 Skin (Sarabeth)      0\n",
       "\n",
       "[809 rows x 3 columns]"
      ]
     },
     "execution_count": 26,
     "metadata": {},
     "output_type": "execute_result"
    }
   ],
   "source": [
    "df"
   ]
  },
  {
   "cell_type": "code",
   "execution_count": 40,
   "metadata": {},
   "outputs": [],
   "source": [
    "df.to_csv('Billboard_Data_fullsongs.csv', index=False) "
   ]
  },
  {
   "cell_type": "markdown",
   "metadata": {},
   "source": [
    "## Exstact 15s chorus"
   ]
  },
  {
   "cell_type": "code",
   "execution_count": 38,
   "metadata": {},
   "outputs": [],
   "source": [
    "import os \n",
    "import pandas as pd\n",
    "import warnings \n",
    "warnings.filterwarnings(action='ignore')"
   ]
  },
  {
   "cell_type": "code",
   "execution_count": 43,
   "metadata": {},
   "outputs": [],
   "source": [
    "pwd = os.getcwd()\n",
    "data_path = os.path.join(pwd,'Billboard_Data_fullsongs.csv')\n",
    "data = pd.read_csv(data_path)\n",
    "df = data.copy()"
   ]
  },
  {
   "cell_type": "code",
   "execution_count": 44,
   "metadata": {},
   "outputs": [
    {
     "ename": "KeyError",
     "evalue": "'song_path'",
     "output_type": "error",
     "traceback": [
      "\u001b[1;31m---------------------------------------------------------------------------\u001b[0m",
      "\u001b[1;31mKeyError\u001b[0m                                  Traceback (most recent call last)",
      "File \u001b[1;32m~\\anaconda3\\lib\\site-packages\\pandas\\core\\indexes\\base.py:3621\u001b[0m, in \u001b[0;36mIndex.get_loc\u001b[1;34m(self, key, method, tolerance)\u001b[0m\n\u001b[0;32m   3620\u001b[0m \u001b[38;5;28;01mtry\u001b[39;00m:\n\u001b[1;32m-> 3621\u001b[0m     \u001b[38;5;28;01mreturn\u001b[39;00m \u001b[38;5;28;43mself\u001b[39;49m\u001b[38;5;241;43m.\u001b[39;49m\u001b[43m_engine\u001b[49m\u001b[38;5;241;43m.\u001b[39;49m\u001b[43mget_loc\u001b[49m\u001b[43m(\u001b[49m\u001b[43mcasted_key\u001b[49m\u001b[43m)\u001b[49m\n\u001b[0;32m   3622\u001b[0m \u001b[38;5;28;01mexcept\u001b[39;00m \u001b[38;5;167;01mKeyError\u001b[39;00m \u001b[38;5;28;01mas\u001b[39;00m err:\n",
      "File \u001b[1;32m~\\anaconda3\\lib\\site-packages\\pandas\\_libs\\index.pyx:136\u001b[0m, in \u001b[0;36mpandas._libs.index.IndexEngine.get_loc\u001b[1;34m()\u001b[0m\n",
      "File \u001b[1;32m~\\anaconda3\\lib\\site-packages\\pandas\\_libs\\index.pyx:163\u001b[0m, in \u001b[0;36mpandas._libs.index.IndexEngine.get_loc\u001b[1;34m()\u001b[0m\n",
      "File \u001b[1;32mpandas\\_libs\\hashtable_class_helper.pxi:5198\u001b[0m, in \u001b[0;36mpandas._libs.hashtable.PyObjectHashTable.get_item\u001b[1;34m()\u001b[0m\n",
      "File \u001b[1;32mpandas\\_libs\\hashtable_class_helper.pxi:5206\u001b[0m, in \u001b[0;36mpandas._libs.hashtable.PyObjectHashTable.get_item\u001b[1;34m()\u001b[0m\n",
      "\u001b[1;31mKeyError\u001b[0m: 'song_path'",
      "\nThe above exception was the direct cause of the following exception:\n",
      "\u001b[1;31mKeyError\u001b[0m                                  Traceback (most recent call last)",
      "Input \u001b[1;32mIn [44]\u001b[0m, in \u001b[0;36m<cell line: 1>\u001b[1;34m()\u001b[0m\n\u001b[1;32m----> 1\u001b[0m df[\u001b[43mdf\u001b[49m\u001b[43m[\u001b[49m\u001b[38;5;124;43m'\u001b[39;49m\u001b[38;5;124;43msong_path\u001b[39;49m\u001b[38;5;124;43m'\u001b[39;49m\u001b[43m]\u001b[49m\u001b[38;5;241m.\u001b[39misna()]\n",
      "File \u001b[1;32m~\\anaconda3\\lib\\site-packages\\pandas\\core\\frame.py:3505\u001b[0m, in \u001b[0;36mDataFrame.__getitem__\u001b[1;34m(self, key)\u001b[0m\n\u001b[0;32m   3503\u001b[0m \u001b[38;5;28;01mif\u001b[39;00m \u001b[38;5;28mself\u001b[39m\u001b[38;5;241m.\u001b[39mcolumns\u001b[38;5;241m.\u001b[39mnlevels \u001b[38;5;241m>\u001b[39m \u001b[38;5;241m1\u001b[39m:\n\u001b[0;32m   3504\u001b[0m     \u001b[38;5;28;01mreturn\u001b[39;00m \u001b[38;5;28mself\u001b[39m\u001b[38;5;241m.\u001b[39m_getitem_multilevel(key)\n\u001b[1;32m-> 3505\u001b[0m indexer \u001b[38;5;241m=\u001b[39m \u001b[38;5;28;43mself\u001b[39;49m\u001b[38;5;241;43m.\u001b[39;49m\u001b[43mcolumns\u001b[49m\u001b[38;5;241;43m.\u001b[39;49m\u001b[43mget_loc\u001b[49m\u001b[43m(\u001b[49m\u001b[43mkey\u001b[49m\u001b[43m)\u001b[49m\n\u001b[0;32m   3506\u001b[0m \u001b[38;5;28;01mif\u001b[39;00m is_integer(indexer):\n\u001b[0;32m   3507\u001b[0m     indexer \u001b[38;5;241m=\u001b[39m [indexer]\n",
      "File \u001b[1;32m~\\anaconda3\\lib\\site-packages\\pandas\\core\\indexes\\base.py:3623\u001b[0m, in \u001b[0;36mIndex.get_loc\u001b[1;34m(self, key, method, tolerance)\u001b[0m\n\u001b[0;32m   3621\u001b[0m     \u001b[38;5;28;01mreturn\u001b[39;00m \u001b[38;5;28mself\u001b[39m\u001b[38;5;241m.\u001b[39m_engine\u001b[38;5;241m.\u001b[39mget_loc(casted_key)\n\u001b[0;32m   3622\u001b[0m \u001b[38;5;28;01mexcept\u001b[39;00m \u001b[38;5;167;01mKeyError\u001b[39;00m \u001b[38;5;28;01mas\u001b[39;00m err:\n\u001b[1;32m-> 3623\u001b[0m     \u001b[38;5;28;01mraise\u001b[39;00m \u001b[38;5;167;01mKeyError\u001b[39;00m(key) \u001b[38;5;28;01mfrom\u001b[39;00m \u001b[38;5;21;01merr\u001b[39;00m\n\u001b[0;32m   3624\u001b[0m \u001b[38;5;28;01mexcept\u001b[39;00m \u001b[38;5;167;01mTypeError\u001b[39;00m:\n\u001b[0;32m   3625\u001b[0m     \u001b[38;5;66;03m# If we have a listlike key, _check_indexing_error will raise\u001b[39;00m\n\u001b[0;32m   3626\u001b[0m     \u001b[38;5;66;03m#  InvalidIndexError. Otherwise we fall through and re-raise\u001b[39;00m\n\u001b[0;32m   3627\u001b[0m     \u001b[38;5;66;03m#  the TypeError.\u001b[39;00m\n\u001b[0;32m   3628\u001b[0m     \u001b[38;5;28mself\u001b[39m\u001b[38;5;241m.\u001b[39m_check_indexing_error(key)\n",
      "\u001b[1;31mKeyError\u001b[0m: 'song_path'"
     ]
    }
   ],
   "source": [
    "df[df['song_path'].isna()] #check for null paths"
   ]
  },
  {
   "cell_type": "code",
   "execution_count": null,
   "metadata": {},
   "outputs": [],
   "source": [
    "full_songs_path = list(df['song_path']) # list of full songs downloaded path \n",
    "chorus_extract_path = 'chorus_extract' # path to save extracted chorus\n",
    "extracted_songs = [basename.replace('.wav','') for basename in os.listdir(chorus_extract_path)] # basename/ song name of already extracted song to avoid repitition in chorus extraction \n",
    "# extracted_songs"
   ]
  },
  {
   "cell_type": "code",
   "execution_count": null,
   "metadata": {},
   "outputs": [],
   "source": [
    "from pychorus import find_and_output_chorus # import chorus ectractor lib\n",
    "not_extrated = [] # list to track not extracted choruses "
   ]
  },
  {
   "cell_type": "code",
   "execution_count": null,
   "metadata": {},
   "outputs": [],
   "source": [
    "# helper function to extract 15s choruses from songs as required in paper \n",
    "def extract_chorus(path_list, output_path):\n",
    "    for path in path_list:\n",
    "        basename = os.path.basename(str(path)).replace('.mp3', '')\n",
    "        save_path = f'{output_path}/{basename}.wav' # output path as .wav extension \n",
    "        if basename in extracted_songs:\n",
    "            print('song already exists')\n",
    "        else:\n",
    "            chorus = find_and_output_chorus(str(path), str(save_path), 15)\n",
    "            if chorus == None:\n",
    "                not_extrated.append(basename)            "
   ]
  },
  {
   "cell_type": "code",
   "execution_count": 31,
   "metadata": {},
   "outputs": [
    {
     "ename": "NameError",
     "evalue": "name 'extract_chorus' is not defined",
     "output_type": "error",
     "traceback": [
      "\u001b[1;31m---------------------------------------------------------------------------\u001b[0m",
      "\u001b[1;31mNameError\u001b[0m                                 Traceback (most recent call last)",
      "Input \u001b[1;32mIn [31]\u001b[0m, in \u001b[0;36m<cell line: 1>\u001b[1;34m()\u001b[0m\n\u001b[1;32m----> 1\u001b[0m \u001b[43mextract_chorus\u001b[49m(full_songs_path,chorus_extract_path)\n",
      "\u001b[1;31mNameError\u001b[0m: name 'extract_chorus' is not defined"
     ]
    }
   ],
   "source": [
    "extract_chorus(full_songs_path,chorus_extract_path) #extract all choruses "
   ]
  },
  {
   "cell_type": "code",
   "execution_count": 32,
   "metadata": {},
   "outputs": [
    {
     "ename": "NameError",
     "evalue": "name 'not_extrated' is not defined",
     "output_type": "error",
     "traceback": [
      "\u001b[1;31m---------------------------------------------------------------------------\u001b[0m",
      "\u001b[1;31mNameError\u001b[0m                                 Traceback (most recent call last)",
      "Input \u001b[1;32mIn [32]\u001b[0m, in \u001b[0;36m<cell line: 1>\u001b[1;34m()\u001b[0m\n\u001b[1;32m----> 1\u001b[0m \u001b[38;5;28mlen\u001b[39m(\u001b[43mnot_extrated\u001b[49m)\n",
      "\u001b[1;31mNameError\u001b[0m: name 'not_extrated' is not defined"
     ]
    }
   ],
   "source": [
    "len(not_extrated)"
   ]
  },
  {
   "cell_type": "code",
   "execution_count": 33,
   "metadata": {},
   "outputs": [
    {
     "ename": "FileNotFoundError",
     "evalue": "[WinError 3] The system cannot find the path specified: 'chorus_extract'",
     "output_type": "error",
     "traceback": [
      "\u001b[1;31m---------------------------------------------------------------------------\u001b[0m",
      "\u001b[1;31mFileNotFoundError\u001b[0m                         Traceback (most recent call last)",
      "Input \u001b[1;32mIn [33]\u001b[0m, in \u001b[0;36m<cell line: 1>\u001b[1;34m()\u001b[0m\n\u001b[1;32m----> 1\u001b[0m extracted_song_basename \u001b[38;5;241m=\u001b[39m [song\u001b[38;5;241m.\u001b[39mreplace(\u001b[38;5;124m'\u001b[39m\u001b[38;5;124m.wav\u001b[39m\u001b[38;5;124m'\u001b[39m,\u001b[38;5;124m'\u001b[39m\u001b[38;5;124m'\u001b[39m) \u001b[38;5;28;01mfor\u001b[39;00m song \u001b[38;5;129;01min\u001b[39;00m \u001b[43mos\u001b[49m\u001b[38;5;241;43m.\u001b[39;49m\u001b[43mlistdir\u001b[49m\u001b[43m(\u001b[49m\u001b[38;5;124;43m'\u001b[39;49m\u001b[38;5;124;43mchorus_extract\u001b[39;49m\u001b[38;5;124;43m'\u001b[39;49m\u001b[43m)\u001b[49m] \u001b[38;5;66;03m# get extracteds songs basename\u001b[39;00m\n\u001b[0;32m      2\u001b[0m extracted_song_list \u001b[38;5;241m=\u001b[39m [] \u001b[38;5;66;03m# list for songs from table present in successful extraction list \u001b[39;00m\n\u001b[0;32m      3\u001b[0m \u001b[38;5;28;01mfor\u001b[39;00m song \u001b[38;5;129;01min\u001b[39;00m df[\u001b[38;5;124m'\u001b[39m\u001b[38;5;124msong_path\u001b[39m\u001b[38;5;124m'\u001b[39m]:\n",
      "\u001b[1;31mFileNotFoundError\u001b[0m: [WinError 3] The system cannot find the path specified: 'chorus_extract'"
     ]
    }
   ],
   "source": [
    "extracted_song_basename = [song.replace('.wav','') for song in os.listdir('chorus_extract')] # get extracteds songs basename\n",
    "extracted_song_list = [] # list for songs from table present in successful extraction list \n",
    "for song in df['song_path']:\n",
    "    basename = os.path.basename(song).replace('.mp3','')\n",
    "    if  basename in extracted_song_basename:\n",
    "        extracted_song_list.append(f'chorus_extract/{basename}.wav') # append successfuly extracted songs to list\n",
    "    else:\n",
    "        extracted_song_list.append('n/a') # append not available if extracted song does not exist "
   ]
  },
  {
   "cell_type": "code",
   "execution_count": 34,
   "metadata": {},
   "outputs": [
    {
     "ename": "NameError",
     "evalue": "name 'extracted_song_list' is not defined",
     "output_type": "error",
     "traceback": [
      "\u001b[1;31m---------------------------------------------------------------------------\u001b[0m",
      "\u001b[1;31mNameError\u001b[0m                                 Traceback (most recent call last)",
      "Input \u001b[1;32mIn [34]\u001b[0m, in \u001b[0;36m<cell line: 1>\u001b[1;34m()\u001b[0m\n\u001b[1;32m----> 1\u001b[0m \u001b[38;5;28mlen\u001b[39m(\u001b[43mextracted_song_list\u001b[49m)\n",
      "\u001b[1;31mNameError\u001b[0m: name 'extracted_song_list' is not defined"
     ]
    }
   ],
   "source": [
    "len(extracted_song_list)"
   ]
  },
  {
   "cell_type": "code",
   "execution_count": 35,
   "metadata": {},
   "outputs": [
    {
     "ename": "NameError",
     "evalue": "name 'extracted_song_list' is not defined",
     "output_type": "error",
     "traceback": [
      "\u001b[1;31m---------------------------------------------------------------------------\u001b[0m",
      "\u001b[1;31mNameError\u001b[0m                                 Traceback (most recent call last)",
      "Input \u001b[1;32mIn [35]\u001b[0m, in \u001b[0;36m<cell line: 1>\u001b[1;34m()\u001b[0m\n\u001b[1;32m----> 1\u001b[0m df \u001b[38;5;241m=\u001b[39m df\u001b[38;5;241m.\u001b[39massign(extracted_chorus_path\u001b[38;5;241m=\u001b[39m\u001b[43mextracted_song_list\u001b[49m)\n",
      "\u001b[1;31mNameError\u001b[0m: name 'extracted_song_list' is not defined"
     ]
    }
   ],
   "source": [
    "df = df.assign(extracted_chorus_path=extracted_song_list) # add new exteacted chorus paths to data table "
   ]
  },
  {
   "cell_type": "code",
   "execution_count": 45,
   "metadata": {},
   "outputs": [
    {
     "data": {
      "text/html": [
       "<div>\n",
       "<style scoped>\n",
       "    .dataframe tbody tr th:only-of-type {\n",
       "        vertical-align: middle;\n",
       "    }\n",
       "\n",
       "    .dataframe tbody tr th {\n",
       "        vertical-align: top;\n",
       "    }\n",
       "\n",
       "    .dataframe thead th {\n",
       "        text-align: right;\n",
       "    }\n",
       "</style>\n",
       "<table border=\"1\" class=\"dataframe\">\n",
       "  <thead>\n",
       "    <tr style=\"text-align: right;\">\n",
       "      <th></th>\n",
       "      <th>Artist</th>\n",
       "      <th>Title</th>\n",
       "      <th>Label</th>\n",
       "    </tr>\n",
       "  </thead>\n",
       "  <tbody>\n",
       "    <tr>\n",
       "      <th>0</th>\n",
       "      <td>The Weeknd</td>\n",
       "      <td>Blinding Lights</td>\n",
       "      <td>1</td>\n",
       "    </tr>\n",
       "    <tr>\n",
       "      <th>1</th>\n",
       "      <td>Olivia Rodrigo</td>\n",
       "      <td>Good 4 U</td>\n",
       "      <td>1</td>\n",
       "    </tr>\n",
       "    <tr>\n",
       "      <th>2</th>\n",
       "      <td>Olivia Rodrigo</td>\n",
       "      <td>Drivers License</td>\n",
       "      <td>1</td>\n",
       "    </tr>\n",
       "    <tr>\n",
       "      <th>3</th>\n",
       "      <td>Lil Nas X</td>\n",
       "      <td>Montero (Call Me By Your Name)</td>\n",
       "      <td>1</td>\n",
       "    </tr>\n",
       "    <tr>\n",
       "      <th>4</th>\n",
       "      <td>BTS</td>\n",
       "      <td>Butter</td>\n",
       "      <td>1</td>\n",
       "    </tr>\n",
       "    <tr>\n",
       "      <th>...</th>\n",
       "      <td>...</td>\n",
       "      <td>...</td>\n",
       "      <td>...</td>\n",
       "    </tr>\n",
       "    <tr>\n",
       "      <th>804</th>\n",
       "      <td>Gwen Stefani</td>\n",
       "      <td>Luxurious</td>\n",
       "      <td>0</td>\n",
       "    </tr>\n",
       "    <tr>\n",
       "      <th>805</th>\n",
       "      <td>Rihanna</td>\n",
       "      <td>If It's Lovin' That You Want</td>\n",
       "      <td>0</td>\n",
       "    </tr>\n",
       "    <tr>\n",
       "      <th>806</th>\n",
       "      <td>Lil Wayne</td>\n",
       "      <td>Fireman</td>\n",
       "      <td>0</td>\n",
       "    </tr>\n",
       "    <tr>\n",
       "      <th>807</th>\n",
       "      <td>Alicia Keys</td>\n",
       "      <td>Unbreakable</td>\n",
       "      <td>0</td>\n",
       "    </tr>\n",
       "    <tr>\n",
       "      <th>808</th>\n",
       "      <td>Rascal Flatts</td>\n",
       "      <td>Skin (Sarabeth)</td>\n",
       "      <td>0</td>\n",
       "    </tr>\n",
       "  </tbody>\n",
       "</table>\n",
       "<p>809 rows × 3 columns</p>\n",
       "</div>"
      ],
      "text/plain": [
       "             Artist                           Title  Label\n",
       "0        The Weeknd                 Blinding Lights      1\n",
       "1    Olivia Rodrigo                        Good 4 U      1\n",
       "2    Olivia Rodrigo                 Drivers License      1\n",
       "3         Lil Nas X  Montero (Call Me By Your Name)      1\n",
       "4               BTS                          Butter      1\n",
       "..              ...                             ...    ...\n",
       "804    Gwen Stefani                       Luxurious      0\n",
       "805         Rihanna    If It's Lovin' That You Want      0\n",
       "806       Lil Wayne                         Fireman      0\n",
       "807     Alicia Keys                     Unbreakable      0\n",
       "808   Rascal Flatts                 Skin (Sarabeth)      0\n",
       "\n",
       "[809 rows x 3 columns]"
      ]
     },
     "execution_count": 45,
     "metadata": {},
     "output_type": "execute_result"
    }
   ],
   "source": [
    "df"
   ]
  },
  {
   "cell_type": "code",
   "execution_count": 46,
   "metadata": {},
   "outputs": [
    {
     "ename": "KeyError",
     "evalue": "'extracted_chorus_path'",
     "output_type": "error",
     "traceback": [
      "\u001b[1;31m---------------------------------------------------------------------------\u001b[0m",
      "\u001b[1;31mKeyError\u001b[0m                                  Traceback (most recent call last)",
      "File \u001b[1;32m~\\anaconda3\\lib\\site-packages\\pandas\\core\\indexes\\base.py:3621\u001b[0m, in \u001b[0;36mIndex.get_loc\u001b[1;34m(self, key, method, tolerance)\u001b[0m\n\u001b[0;32m   3620\u001b[0m \u001b[38;5;28;01mtry\u001b[39;00m:\n\u001b[1;32m-> 3621\u001b[0m     \u001b[38;5;28;01mreturn\u001b[39;00m \u001b[38;5;28;43mself\u001b[39;49m\u001b[38;5;241;43m.\u001b[39;49m\u001b[43m_engine\u001b[49m\u001b[38;5;241;43m.\u001b[39;49m\u001b[43mget_loc\u001b[49m\u001b[43m(\u001b[49m\u001b[43mcasted_key\u001b[49m\u001b[43m)\u001b[49m\n\u001b[0;32m   3622\u001b[0m \u001b[38;5;28;01mexcept\u001b[39;00m \u001b[38;5;167;01mKeyError\u001b[39;00m \u001b[38;5;28;01mas\u001b[39;00m err:\n",
      "File \u001b[1;32m~\\anaconda3\\lib\\site-packages\\pandas\\_libs\\index.pyx:136\u001b[0m, in \u001b[0;36mpandas._libs.index.IndexEngine.get_loc\u001b[1;34m()\u001b[0m\n",
      "File \u001b[1;32m~\\anaconda3\\lib\\site-packages\\pandas\\_libs\\index.pyx:163\u001b[0m, in \u001b[0;36mpandas._libs.index.IndexEngine.get_loc\u001b[1;34m()\u001b[0m\n",
      "File \u001b[1;32mpandas\\_libs\\hashtable_class_helper.pxi:5198\u001b[0m, in \u001b[0;36mpandas._libs.hashtable.PyObjectHashTable.get_item\u001b[1;34m()\u001b[0m\n",
      "File \u001b[1;32mpandas\\_libs\\hashtable_class_helper.pxi:5206\u001b[0m, in \u001b[0;36mpandas._libs.hashtable.PyObjectHashTable.get_item\u001b[1;34m()\u001b[0m\n",
      "\u001b[1;31mKeyError\u001b[0m: 'extracted_chorus_path'",
      "\nThe above exception was the direct cause of the following exception:\n",
      "\u001b[1;31mKeyError\u001b[0m                                  Traceback (most recent call last)",
      "Input \u001b[1;32mIn [46]\u001b[0m, in \u001b[0;36m<cell line: 1>\u001b[1;34m()\u001b[0m\n\u001b[1;32m----> 1\u001b[0m df[\u001b[43mdf\u001b[49m\u001b[43m[\u001b[49m\u001b[38;5;124;43m'\u001b[39;49m\u001b[38;5;124;43mextracted_chorus_path\u001b[39;49m\u001b[38;5;124;43m'\u001b[39;49m\u001b[43m]\u001b[49m\u001b[38;5;241m==\u001b[39m\u001b[38;5;124m'\u001b[39m\u001b[38;5;124mn/a\u001b[39m\u001b[38;5;124m'\u001b[39m]\n",
      "File \u001b[1;32m~\\anaconda3\\lib\\site-packages\\pandas\\core\\frame.py:3505\u001b[0m, in \u001b[0;36mDataFrame.__getitem__\u001b[1;34m(self, key)\u001b[0m\n\u001b[0;32m   3503\u001b[0m \u001b[38;5;28;01mif\u001b[39;00m \u001b[38;5;28mself\u001b[39m\u001b[38;5;241m.\u001b[39mcolumns\u001b[38;5;241m.\u001b[39mnlevels \u001b[38;5;241m>\u001b[39m \u001b[38;5;241m1\u001b[39m:\n\u001b[0;32m   3504\u001b[0m     \u001b[38;5;28;01mreturn\u001b[39;00m \u001b[38;5;28mself\u001b[39m\u001b[38;5;241m.\u001b[39m_getitem_multilevel(key)\n\u001b[1;32m-> 3505\u001b[0m indexer \u001b[38;5;241m=\u001b[39m \u001b[38;5;28;43mself\u001b[39;49m\u001b[38;5;241;43m.\u001b[39;49m\u001b[43mcolumns\u001b[49m\u001b[38;5;241;43m.\u001b[39;49m\u001b[43mget_loc\u001b[49m\u001b[43m(\u001b[49m\u001b[43mkey\u001b[49m\u001b[43m)\u001b[49m\n\u001b[0;32m   3506\u001b[0m \u001b[38;5;28;01mif\u001b[39;00m is_integer(indexer):\n\u001b[0;32m   3507\u001b[0m     indexer \u001b[38;5;241m=\u001b[39m [indexer]\n",
      "File \u001b[1;32m~\\anaconda3\\lib\\site-packages\\pandas\\core\\indexes\\base.py:3623\u001b[0m, in \u001b[0;36mIndex.get_loc\u001b[1;34m(self, key, method, tolerance)\u001b[0m\n\u001b[0;32m   3621\u001b[0m     \u001b[38;5;28;01mreturn\u001b[39;00m \u001b[38;5;28mself\u001b[39m\u001b[38;5;241m.\u001b[39m_engine\u001b[38;5;241m.\u001b[39mget_loc(casted_key)\n\u001b[0;32m   3622\u001b[0m \u001b[38;5;28;01mexcept\u001b[39;00m \u001b[38;5;167;01mKeyError\u001b[39;00m \u001b[38;5;28;01mas\u001b[39;00m err:\n\u001b[1;32m-> 3623\u001b[0m     \u001b[38;5;28;01mraise\u001b[39;00m \u001b[38;5;167;01mKeyError\u001b[39;00m(key) \u001b[38;5;28;01mfrom\u001b[39;00m \u001b[38;5;21;01merr\u001b[39;00m\n\u001b[0;32m   3624\u001b[0m \u001b[38;5;28;01mexcept\u001b[39;00m \u001b[38;5;167;01mTypeError\u001b[39;00m:\n\u001b[0;32m   3625\u001b[0m     \u001b[38;5;66;03m# If we have a listlike key, _check_indexing_error will raise\u001b[39;00m\n\u001b[0;32m   3626\u001b[0m     \u001b[38;5;66;03m#  InvalidIndexError. Otherwise we fall through and re-raise\u001b[39;00m\n\u001b[0;32m   3627\u001b[0m     \u001b[38;5;66;03m#  the TypeError.\u001b[39;00m\n\u001b[0;32m   3628\u001b[0m     \u001b[38;5;28mself\u001b[39m\u001b[38;5;241m.\u001b[39m_check_indexing_error(key)\n",
      "\u001b[1;31mKeyError\u001b[0m: 'extracted_chorus_path'"
     ]
    }
   ],
   "source": [
    "df[df['extracted_chorus_path']=='n/a'] # check for non available extracts path from list of chorus path"
   ]
  },
  {
   "cell_type": "code",
   "execution_count": 47,
   "metadata": {},
   "outputs": [],
   "source": [
    "#save table to csv file \n",
    "df.to_csv('extracted_chorus_incomplete.csv', index=False) # dataset with incomplete extracted choruses "
   ]
  },
  {
   "cell_type": "code",
   "execution_count": 48,
   "metadata": {},
   "outputs": [
    {
     "data": {
      "text/plain": [
       "Artist    0\n",
       "Title     0\n",
       "Label     0\n",
       "dtype: int64"
      ]
     },
     "execution_count": 48,
     "metadata": {},
     "output_type": "execute_result"
    }
   ],
   "source": [
    "data1 = pd.read_csv('extracted_chorus_incomplete.csv')\n",
    "data1.isna().sum() # get total number of non available extracted paths "
   ]
  },
  {
   "cell_type": "code",
   "execution_count": 49,
   "metadata": {},
   "outputs": [
    {
     "data": {
      "text/plain": [
       "Artist    0\n",
       "Title     0\n",
       "Label     0\n",
       "dtype: int64"
      ]
     },
     "execution_count": 49,
     "metadata": {},
     "output_type": "execute_result"
    }
   ],
   "source": [
    "data1 = data1.dropna() # drop rows with non available extract path \n",
    "data1.isna().sum()"
   ]
  },
  {
   "cell_type": "code",
   "execution_count": 50,
   "metadata": {},
   "outputs": [],
   "source": [
    "#save table to csv file \n",
    "data1.to_csv('extracted_chorus.csv', index=False) "
   ]
  },
  {
   "cell_type": "markdown",
   "metadata": {},
   "source": [
    "## Exstact audio features"
   ]
  },
  {
   "cell_type": "markdown",
   "metadata": {},
   "source": [
    "major features to extract :\n",
    "\n",
    "chroma_stft\n",
    "chroma_cqt\n",
    "chroma_cens\n",
    "mfcc\n",
    "rms\n",
    "spectral_centroid\n",
    "spectral_bandwidth\n",
    "spectral_contrast\n",
    "spectral_rolloff\n",
    "tonnetz\n",
    "zero_crossing_rate\n",
    "Total expected dimensions after transformation - 518"
   ]
  },
  {
   "cell_type": "code",
   "execution_count": 51,
   "metadata": {},
   "outputs": [],
   "source": [
    "# import necessary libraries\n",
    "import numpy as np \n",
    "import pandas as pd \n",
    "import librosa \n",
    "from glob import glob"
   ]
  },
  {
   "cell_type": "code",
   "execution_count": 52,
   "metadata": {},
   "outputs": [
    {
     "data": {
      "text/html": [
       "<div>\n",
       "<style scoped>\n",
       "    .dataframe tbody tr th:only-of-type {\n",
       "        vertical-align: middle;\n",
       "    }\n",
       "\n",
       "    .dataframe tbody tr th {\n",
       "        vertical-align: top;\n",
       "    }\n",
       "\n",
       "    .dataframe thead th {\n",
       "        text-align: right;\n",
       "    }\n",
       "</style>\n",
       "<table border=\"1\" class=\"dataframe\">\n",
       "  <thead>\n",
       "    <tr style=\"text-align: right;\">\n",
       "      <th></th>\n",
       "      <th>Artist</th>\n",
       "      <th>Title</th>\n",
       "      <th>Label</th>\n",
       "    </tr>\n",
       "  </thead>\n",
       "  <tbody>\n",
       "    <tr>\n",
       "      <th>0</th>\n",
       "      <td>The Weeknd</td>\n",
       "      <td>Blinding Lights</td>\n",
       "      <td>1</td>\n",
       "    </tr>\n",
       "    <tr>\n",
       "      <th>1</th>\n",
       "      <td>Olivia Rodrigo</td>\n",
       "      <td>Good 4 U</td>\n",
       "      <td>1</td>\n",
       "    </tr>\n",
       "    <tr>\n",
       "      <th>2</th>\n",
       "      <td>Olivia Rodrigo</td>\n",
       "      <td>Drivers License</td>\n",
       "      <td>1</td>\n",
       "    </tr>\n",
       "    <tr>\n",
       "      <th>3</th>\n",
       "      <td>Lil Nas X</td>\n",
       "      <td>Montero (Call Me By Your Name)</td>\n",
       "      <td>1</td>\n",
       "    </tr>\n",
       "    <tr>\n",
       "      <th>4</th>\n",
       "      <td>BTS</td>\n",
       "      <td>Butter</td>\n",
       "      <td>1</td>\n",
       "    </tr>\n",
       "    <tr>\n",
       "      <th>...</th>\n",
       "      <td>...</td>\n",
       "      <td>...</td>\n",
       "      <td>...</td>\n",
       "    </tr>\n",
       "    <tr>\n",
       "      <th>804</th>\n",
       "      <td>Gwen Stefani</td>\n",
       "      <td>Luxurious</td>\n",
       "      <td>0</td>\n",
       "    </tr>\n",
       "    <tr>\n",
       "      <th>805</th>\n",
       "      <td>Rihanna</td>\n",
       "      <td>If It's Lovin' That You Want</td>\n",
       "      <td>0</td>\n",
       "    </tr>\n",
       "    <tr>\n",
       "      <th>806</th>\n",
       "      <td>Lil Wayne</td>\n",
       "      <td>Fireman</td>\n",
       "      <td>0</td>\n",
       "    </tr>\n",
       "    <tr>\n",
       "      <th>807</th>\n",
       "      <td>Alicia Keys</td>\n",
       "      <td>Unbreakable</td>\n",
       "      <td>0</td>\n",
       "    </tr>\n",
       "    <tr>\n",
       "      <th>808</th>\n",
       "      <td>Rascal Flatts</td>\n",
       "      <td>Skin (Sarabeth)</td>\n",
       "      <td>0</td>\n",
       "    </tr>\n",
       "  </tbody>\n",
       "</table>\n",
       "<p>809 rows × 3 columns</p>\n",
       "</div>"
      ],
      "text/plain": [
       "             Artist                           Title  Label\n",
       "0        The Weeknd                 Blinding Lights      1\n",
       "1    Olivia Rodrigo                        Good 4 U      1\n",
       "2    Olivia Rodrigo                 Drivers License      1\n",
       "3         Lil Nas X  Montero (Call Me By Your Name)      1\n",
       "4               BTS                          Butter      1\n",
       "..              ...                             ...    ...\n",
       "804    Gwen Stefani                       Luxurious      0\n",
       "805         Rihanna    If It's Lovin' That You Want      0\n",
       "806       Lil Wayne                         Fireman      0\n",
       "807     Alicia Keys                     Unbreakable      0\n",
       "808   Rascal Flatts                 Skin (Sarabeth)      0\n",
       "\n",
       "[809 rows x 3 columns]"
      ]
     },
     "execution_count": 52,
     "metadata": {},
     "output_type": "execute_result"
    }
   ],
   "source": [
    "#load dataset \n",
    "import os\n",
    "data = pd.read_csv('extracted_chorus.csv')\n",
    "df = data.copy()\n",
    "df"
   ]
  },
  {
   "cell_type": "code",
   "execution_count": 53,
   "metadata": {},
   "outputs": [],
   "source": [
    "from scipy.stats import skew, kurtosis  # import libs for statistics"
   ]
  },
  {
   "cell_type": "code",
   "execution_count": 54,
   "metadata": {},
   "outputs": [
    {
     "ename": "KeyError",
     "evalue": "'extracted_chorus_path'",
     "output_type": "error",
     "traceback": [
      "\u001b[1;31m---------------------------------------------------------------------------\u001b[0m",
      "\u001b[1;31mKeyError\u001b[0m                                  Traceback (most recent call last)",
      "File \u001b[1;32m~\\anaconda3\\lib\\site-packages\\pandas\\core\\indexes\\base.py:3621\u001b[0m, in \u001b[0;36mIndex.get_loc\u001b[1;34m(self, key, method, tolerance)\u001b[0m\n\u001b[0;32m   3620\u001b[0m \u001b[38;5;28;01mtry\u001b[39;00m:\n\u001b[1;32m-> 3621\u001b[0m     \u001b[38;5;28;01mreturn\u001b[39;00m \u001b[38;5;28;43mself\u001b[39;49m\u001b[38;5;241;43m.\u001b[39;49m\u001b[43m_engine\u001b[49m\u001b[38;5;241;43m.\u001b[39;49m\u001b[43mget_loc\u001b[49m\u001b[43m(\u001b[49m\u001b[43mcasted_key\u001b[49m\u001b[43m)\u001b[49m\n\u001b[0;32m   3622\u001b[0m \u001b[38;5;28;01mexcept\u001b[39;00m \u001b[38;5;167;01mKeyError\u001b[39;00m \u001b[38;5;28;01mas\u001b[39;00m err:\n",
      "File \u001b[1;32m~\\anaconda3\\lib\\site-packages\\pandas\\_libs\\index.pyx:136\u001b[0m, in \u001b[0;36mpandas._libs.index.IndexEngine.get_loc\u001b[1;34m()\u001b[0m\n",
      "File \u001b[1;32m~\\anaconda3\\lib\\site-packages\\pandas\\_libs\\index.pyx:163\u001b[0m, in \u001b[0;36mpandas._libs.index.IndexEngine.get_loc\u001b[1;34m()\u001b[0m\n",
      "File \u001b[1;32mpandas\\_libs\\hashtable_class_helper.pxi:5198\u001b[0m, in \u001b[0;36mpandas._libs.hashtable.PyObjectHashTable.get_item\u001b[1;34m()\u001b[0m\n",
      "File \u001b[1;32mpandas\\_libs\\hashtable_class_helper.pxi:5206\u001b[0m, in \u001b[0;36mpandas._libs.hashtable.PyObjectHashTable.get_item\u001b[1;34m()\u001b[0m\n",
      "\u001b[1;31mKeyError\u001b[0m: 'extracted_chorus_path'",
      "\nThe above exception was the direct cause of the following exception:\n",
      "\u001b[1;31mKeyError\u001b[0m                                  Traceback (most recent call last)",
      "Input \u001b[1;32mIn [54]\u001b[0m, in \u001b[0;36m<cell line: 1>\u001b[1;34m()\u001b[0m\n\u001b[1;32m----> 1\u001b[0m paths \u001b[38;5;241m=\u001b[39m \u001b[38;5;28mlist\u001b[39m(\u001b[43mdf\u001b[49m\u001b[43m[\u001b[49m\u001b[38;5;124;43m'\u001b[39;49m\u001b[38;5;124;43mextracted_chorus_path\u001b[39;49m\u001b[38;5;124;43m'\u001b[39;49m\u001b[43m]\u001b[49m) \u001b[38;5;66;03m# list for extracted chorus paths\u001b[39;00m\n\u001b[0;32m      2\u001b[0m titles \u001b[38;5;241m=\u001b[39m \u001b[38;5;28mlist\u001b[39m(df[\u001b[38;5;124m'\u001b[39m\u001b[38;5;124mTitle\u001b[39m\u001b[38;5;124m'\u001b[39m]) \u001b[38;5;66;03m# list of song titles\u001b[39;00m\n\u001b[0;32m      3\u001b[0m data \u001b[38;5;241m=\u001b[39m []\n",
      "File \u001b[1;32m~\\anaconda3\\lib\\site-packages\\pandas\\core\\frame.py:3505\u001b[0m, in \u001b[0;36mDataFrame.__getitem__\u001b[1;34m(self, key)\u001b[0m\n\u001b[0;32m   3503\u001b[0m \u001b[38;5;28;01mif\u001b[39;00m \u001b[38;5;28mself\u001b[39m\u001b[38;5;241m.\u001b[39mcolumns\u001b[38;5;241m.\u001b[39mnlevels \u001b[38;5;241m>\u001b[39m \u001b[38;5;241m1\u001b[39m:\n\u001b[0;32m   3504\u001b[0m     \u001b[38;5;28;01mreturn\u001b[39;00m \u001b[38;5;28mself\u001b[39m\u001b[38;5;241m.\u001b[39m_getitem_multilevel(key)\n\u001b[1;32m-> 3505\u001b[0m indexer \u001b[38;5;241m=\u001b[39m \u001b[38;5;28;43mself\u001b[39;49m\u001b[38;5;241;43m.\u001b[39;49m\u001b[43mcolumns\u001b[49m\u001b[38;5;241;43m.\u001b[39;49m\u001b[43mget_loc\u001b[49m\u001b[43m(\u001b[49m\u001b[43mkey\u001b[49m\u001b[43m)\u001b[49m\n\u001b[0;32m   3506\u001b[0m \u001b[38;5;28;01mif\u001b[39;00m is_integer(indexer):\n\u001b[0;32m   3507\u001b[0m     indexer \u001b[38;5;241m=\u001b[39m [indexer]\n",
      "File \u001b[1;32m~\\anaconda3\\lib\\site-packages\\pandas\\core\\indexes\\base.py:3623\u001b[0m, in \u001b[0;36mIndex.get_loc\u001b[1;34m(self, key, method, tolerance)\u001b[0m\n\u001b[0;32m   3621\u001b[0m     \u001b[38;5;28;01mreturn\u001b[39;00m \u001b[38;5;28mself\u001b[39m\u001b[38;5;241m.\u001b[39m_engine\u001b[38;5;241m.\u001b[39mget_loc(casted_key)\n\u001b[0;32m   3622\u001b[0m \u001b[38;5;28;01mexcept\u001b[39;00m \u001b[38;5;167;01mKeyError\u001b[39;00m \u001b[38;5;28;01mas\u001b[39;00m err:\n\u001b[1;32m-> 3623\u001b[0m     \u001b[38;5;28;01mraise\u001b[39;00m \u001b[38;5;167;01mKeyError\u001b[39;00m(key) \u001b[38;5;28;01mfrom\u001b[39;00m \u001b[38;5;21;01merr\u001b[39;00m\n\u001b[0;32m   3624\u001b[0m \u001b[38;5;28;01mexcept\u001b[39;00m \u001b[38;5;167;01mTypeError\u001b[39;00m:\n\u001b[0;32m   3625\u001b[0m     \u001b[38;5;66;03m# If we have a listlike key, _check_indexing_error will raise\u001b[39;00m\n\u001b[0;32m   3626\u001b[0m     \u001b[38;5;66;03m#  InvalidIndexError. Otherwise we fall through and re-raise\u001b[39;00m\n\u001b[0;32m   3627\u001b[0m     \u001b[38;5;66;03m#  the TypeError.\u001b[39;00m\n\u001b[0;32m   3628\u001b[0m     \u001b[38;5;28mself\u001b[39m\u001b[38;5;241m.\u001b[39m_check_indexing_error(key)\n",
      "\u001b[1;31mKeyError\u001b[0m: 'extracted_chorus_path'"
     ]
    }
   ],
   "source": [
    "paths = list(df['extracted_chorus_path']) # list for extracted chorus paths\n",
    "titles = list(df['Title']) # list of song titles\n",
    "data = [] # list to contain extracted audio features "
   ]
  },
  {
   "cell_type": "code",
   "execution_count": 55,
   "metadata": {},
   "outputs": [],
   "source": [
    "# helper function to get statistics of each dimension data for each audio raw feature \n",
    "def statistics(list, feature, columns_name, data):\n",
    "    i = 0 # label to track the number of raw dimensions for each audio feature \n",
    "    for ele in list:\n",
    "        # get the 7 statististics of each raw dimension\n",
    "        _skew = skew(ele)\n",
    "        columns_name.append(f'{feature}_kew_{i}')\n",
    "        min = np.min(ele)\n",
    "        columns_name.append(f'{feature}_min_{i}')\n",
    "        max = np.max(ele)\n",
    "        columns_name.append(f'{feature}_max_{i}')\n",
    "        std = np.std(ele)\n",
    "        columns_name.append(f'{feature}_std_{i}')\n",
    "        mean = np.mean(ele)\n",
    "        columns_name.append(f'{feature}_mean_{i}')\n",
    "        median = np.median(ele)\n",
    "        columns_name.append(f'{feature}_median_{i}')\n",
    "        _kurtosis = kurtosis(ele)\n",
    "        columns_name.append(f'{feature}_kurtosis_{i}')\n",
    "\n",
    "        i += 1\n",
    "        # append 7 statistics as single row in list \n",
    "        data.append(_skew) \n",
    "        data.append(min)\n",
    "        data.append(max) \n",
    "        data.append(std) \n",
    "        data.append(mean) \n",
    "        data.append(median) \n",
    "        data.append(_kurtosis)\n",
    "    \n",
    "    return data"
   ]
  },
  {
   "cell_type": "code",
   "execution_count": 56,
   "metadata": {},
   "outputs": [],
   "source": [
    "# helper function ectract audio feature with statistics \n",
    "def extract_features(audio_path, title):\n",
    "\n",
    "    data = []\n",
    "    columns_name = ['title']\n",
    "    data.append(title)\n",
    "    x , sr = librosa.load(audio_path) #load audio waveform and sample rate\n",
    "\n",
    "    chroma_stft = librosa.feature.chroma_stft(x, sr) # chroma_stft with 12 raw dims\n",
    "    statistics(chroma_stft, 'chroma_stft', columns_name, data) # stats = 12 dims * 7 stats data\n",
    "\n",
    "    chroma_cqt = librosa.feature.chroma_cqt(x, sr) # chroma_cqt with 12 raw dims\n",
    "    statistics(chroma_cqt, 'chroma_cqt', columns_name, data) # stats = 12 dims * 7 stats data\n",
    "\n",
    "    chroma_cens = librosa.feature.chroma_cens(x, sr) # chroma_cens with 12 raw dims\n",
    "    statistics(chroma_cens, 'chroma_cens', columns_name, data) # stats = 12 dims * 7 stats data\n",
    "\n",
    "    mfcc = librosa.feature.mfcc(x, sr) # mfcc with 20 raw dims\n",
    "    statistics(mfcc, 'mfcc', columns_name, data)  # stats = 20 dims * 7 stats data\n",
    "    \n",
    "    rms = librosa.feature.rms(x, sr) # rms with 1 raw dims\n",
    "    statistics(rms, 'rms', columns_name, data) # stats = 1 dims * 7 stats data\n",
    "\n",
    "    spectral_centroid = librosa.feature.spectral_centroid(x , sr) # spectral_centroid with 1 raw dims\n",
    "    statistics(spectral_centroid, 'spectral_centroid', columns_name, data) # stats = 1 dims * 7 stats data\n",
    "\n",
    "    spectral_bandwidth = librosa.feature.spectral_bandwidth(x , sr) # spectral_bandwidth with 1 raw dims\n",
    "    statistics(spectral_bandwidth, 'spectral_bandwidth', columns_name, data) # stats = 1 dims * 7 stats data\n",
    "\n",
    "    spectral_contrast = librosa.feature.spectral_contrast(x , sr) # spectral_contrast with 7 raw dims\n",
    "    statistics(spectral_contrast, 'spectral_contrast', columns_name, data) # stats = 7 dims * 7 stats data\n",
    "    \n",
    "    spectral_rolloff = librosa.feature.spectral_rolloff(x , sr) # spectral_rolloff with 1 raw dims\n",
    "    statistics(spectral_rolloff, 'spectral_rolloff', columns_name, data) # stats = 1 dims * 7 stats data\n",
    "\n",
    "    tonnetz = librosa.feature.tonnetz(x , sr) # tonnetz with 6 raw dims\n",
    "    statistics(tonnetz, 'tonnetz', columns_name, data) # stats = 6 dims * 7 stats data\n",
    "\n",
    "    zero_crossing_rate = librosa.feature.zero_crossing_rate(x , sr) # zero_crossing_rate with 1 raw dims\n",
    "    statistics(zero_crossing_rate, 'zero_crossing_rate', columns_name, data) # stats = 1 dims * 7 stats data\n",
    "\n",
    "    # total number of expected dimensions - 518\n",
    "\n",
    "    return data, columns_name"
   ]
  },
  {
   "cell_type": "code",
   "execution_count": 57,
   "metadata": {},
   "outputs": [
    {
     "ename": "NameError",
     "evalue": "name 'paths' is not defined",
     "output_type": "error",
     "traceback": [
      "\u001b[1;31m---------------------------------------------------------------------------\u001b[0m",
      "\u001b[1;31mNameError\u001b[0m                                 Traceback (most recent call last)",
      "Input \u001b[1;32mIn [57]\u001b[0m, in \u001b[0;36m<cell line: 3>\u001b[1;34m()\u001b[0m\n\u001b[0;32m      1\u001b[0m \u001b[38;5;66;03m# extract audio freatures for all songs chosuses/Hook\u001b[39;00m\n\u001b[0;32m      2\u001b[0m i \u001b[38;5;241m=\u001b[39m \u001b[38;5;241m0\u001b[39m\n\u001b[1;32m----> 3\u001b[0m \u001b[38;5;28;01mwhile\u001b[39;00m i \u001b[38;5;241m<\u001b[39m \u001b[38;5;28mlen\u001b[39m(\u001b[43mpaths\u001b[49m):\n\u001b[0;32m      4\u001b[0m     audio_path \u001b[38;5;241m=\u001b[39m paths[i]\n\u001b[0;32m      5\u001b[0m     d, cols \u001b[38;5;241m=\u001b[39m extract_features(audio_path, titles[i])\n",
      "\u001b[1;31mNameError\u001b[0m: name 'paths' is not defined"
     ]
    }
   ],
   "source": [
    "# extract audio freatures for all songs chosuses/Hook\n",
    "i = 0\n",
    "while i < len(paths):\n",
    "    audio_path = paths[i]\n",
    "    d, cols = extract_features(audio_path, titles[i])\n",
    "    data.append(d)\n",
    "    print(f'The {i} song Done...')\n",
    "    i += 1"
   ]
  },
  {
   "cell_type": "code",
   "execution_count": 58,
   "metadata": {},
   "outputs": [
    {
     "ename": "NameError",
     "evalue": "name 'cols' is not defined",
     "output_type": "error",
     "traceback": [
      "\u001b[1;31m---------------------------------------------------------------------------\u001b[0m",
      "\u001b[1;31mNameError\u001b[0m                                 Traceback (most recent call last)",
      "Input \u001b[1;32mIn [58]\u001b[0m, in \u001b[0;36m<cell line: 1>\u001b[1;34m()\u001b[0m\n\u001b[1;32m----> 1\u001b[0m newData \u001b[38;5;241m=\u001b[39m pd\u001b[38;5;241m.\u001b[39mDataFrame(data, columns\u001b[38;5;241m=\u001b[39m\u001b[43mcols\u001b[49m)\n",
      "\u001b[1;31mNameError\u001b[0m: name 'cols' is not defined"
     ]
    }
   ],
   "source": [
    "newData = pd.DataFrame(data, columns=cols) # create dataframe for new extracted audio features "
   ]
  },
  {
   "cell_type": "code",
   "execution_count": 59,
   "metadata": {},
   "outputs": [
    {
     "ename": "NameError",
     "evalue": "name 'newData' is not defined",
     "output_type": "error",
     "traceback": [
      "\u001b[1;31m---------------------------------------------------------------------------\u001b[0m",
      "\u001b[1;31mNameError\u001b[0m                                 Traceback (most recent call last)",
      "Input \u001b[1;32mIn [59]\u001b[0m, in \u001b[0;36m<cell line: 1>\u001b[1;34m()\u001b[0m\n\u001b[1;32m----> 1\u001b[0m \u001b[43mnewData\u001b[49m\n",
      "\u001b[1;31mNameError\u001b[0m: name 'newData' is not defined"
     ]
    }
   ],
   "source": [
    "newData"
   ]
  },
  {
   "cell_type": "code",
   "execution_count": 60,
   "metadata": {},
   "outputs": [
    {
     "data": {
      "text/html": [
       "<div>\n",
       "<style scoped>\n",
       "    .dataframe tbody tr th:only-of-type {\n",
       "        vertical-align: middle;\n",
       "    }\n",
       "\n",
       "    .dataframe tbody tr th {\n",
       "        vertical-align: top;\n",
       "    }\n",
       "\n",
       "    .dataframe thead th {\n",
       "        text-align: right;\n",
       "    }\n",
       "</style>\n",
       "<table border=\"1\" class=\"dataframe\">\n",
       "  <thead>\n",
       "    <tr style=\"text-align: right;\">\n",
       "      <th></th>\n",
       "      <th>Artist</th>\n",
       "      <th>Title</th>\n",
       "      <th>Label</th>\n",
       "    </tr>\n",
       "  </thead>\n",
       "  <tbody>\n",
       "    <tr>\n",
       "      <th>0</th>\n",
       "      <td>The Weeknd</td>\n",
       "      <td>Blinding Lights</td>\n",
       "      <td>1</td>\n",
       "    </tr>\n",
       "    <tr>\n",
       "      <th>1</th>\n",
       "      <td>Olivia Rodrigo</td>\n",
       "      <td>Good 4 U</td>\n",
       "      <td>1</td>\n",
       "    </tr>\n",
       "    <tr>\n",
       "      <th>2</th>\n",
       "      <td>Olivia Rodrigo</td>\n",
       "      <td>Drivers License</td>\n",
       "      <td>1</td>\n",
       "    </tr>\n",
       "    <tr>\n",
       "      <th>3</th>\n",
       "      <td>Lil Nas X</td>\n",
       "      <td>Montero (Call Me By Your Name)</td>\n",
       "      <td>1</td>\n",
       "    </tr>\n",
       "    <tr>\n",
       "      <th>4</th>\n",
       "      <td>BTS</td>\n",
       "      <td>Butter</td>\n",
       "      <td>1</td>\n",
       "    </tr>\n",
       "    <tr>\n",
       "      <th>...</th>\n",
       "      <td>...</td>\n",
       "      <td>...</td>\n",
       "      <td>...</td>\n",
       "    </tr>\n",
       "    <tr>\n",
       "      <th>804</th>\n",
       "      <td>Gwen Stefani</td>\n",
       "      <td>Luxurious</td>\n",
       "      <td>0</td>\n",
       "    </tr>\n",
       "    <tr>\n",
       "      <th>805</th>\n",
       "      <td>Rihanna</td>\n",
       "      <td>If It's Lovin' That You Want</td>\n",
       "      <td>0</td>\n",
       "    </tr>\n",
       "    <tr>\n",
       "      <th>806</th>\n",
       "      <td>Lil Wayne</td>\n",
       "      <td>Fireman</td>\n",
       "      <td>0</td>\n",
       "    </tr>\n",
       "    <tr>\n",
       "      <th>807</th>\n",
       "      <td>Alicia Keys</td>\n",
       "      <td>Unbreakable</td>\n",
       "      <td>0</td>\n",
       "    </tr>\n",
       "    <tr>\n",
       "      <th>808</th>\n",
       "      <td>Rascal Flatts</td>\n",
       "      <td>Skin (Sarabeth)</td>\n",
       "      <td>0</td>\n",
       "    </tr>\n",
       "  </tbody>\n",
       "</table>\n",
       "<p>809 rows × 3 columns</p>\n",
       "</div>"
      ],
      "text/plain": [
       "             Artist                           Title  Label\n",
       "0        The Weeknd                 Blinding Lights      1\n",
       "1    Olivia Rodrigo                        Good 4 U      1\n",
       "2    Olivia Rodrigo                 Drivers License      1\n",
       "3         Lil Nas X  Montero (Call Me By Your Name)      1\n",
       "4               BTS                          Butter      1\n",
       "..              ...                             ...    ...\n",
       "804    Gwen Stefani                       Luxurious      0\n",
       "805         Rihanna    If It's Lovin' That You Want      0\n",
       "806       Lil Wayne                         Fireman      0\n",
       "807     Alicia Keys                     Unbreakable      0\n",
       "808   Rascal Flatts                 Skin (Sarabeth)      0\n",
       "\n",
       "[809 rows x 3 columns]"
      ]
     },
     "execution_count": 60,
     "metadata": {},
     "output_type": "execute_result"
    }
   ],
   "source": [
    "df"
   ]
  },
  {
   "cell_type": "code",
   "execution_count": 61,
   "metadata": {},
   "outputs": [
    {
     "ename": "NameError",
     "evalue": "name 'newData' is not defined",
     "output_type": "error",
     "traceback": [
      "\u001b[1;31m---------------------------------------------------------------------------\u001b[0m",
      "\u001b[1;31mNameError\u001b[0m                                 Traceback (most recent call last)",
      "Input \u001b[1;32mIn [61]\u001b[0m, in \u001b[0;36m<cell line: 1>\u001b[1;34m()\u001b[0m\n\u001b[1;32m----> 1\u001b[0m final_data \u001b[38;5;241m=\u001b[39m df\u001b[38;5;241m.\u001b[39mjoin(\u001b[43mnewData\u001b[49m) \u001b[38;5;66;03m# join both datasets of same number of rows \u001b[39;00m\n\u001b[0;32m      2\u001b[0m final_data\n",
      "\u001b[1;31mNameError\u001b[0m: name 'newData' is not defined"
     ]
    }
   ],
   "source": [
    "final_data = df.join(newData) # join both datasets of same number of rows \n",
    "final_data"
   ]
  },
  {
   "cell_type": "code",
   "execution_count": 62,
   "metadata": {},
   "outputs": [
    {
     "ename": "NameError",
     "evalue": "name 'final_data' is not defined",
     "output_type": "error",
     "traceback": [
      "\u001b[1;31m---------------------------------------------------------------------------\u001b[0m",
      "\u001b[1;31mNameError\u001b[0m                                 Traceback (most recent call last)",
      "Input \u001b[1;32mIn [62]\u001b[0m, in \u001b[0;36m<cell line: 1>\u001b[1;34m()\u001b[0m\n\u001b[1;32m----> 1\u001b[0m \u001b[43mfinal_data\u001b[49m\u001b[38;5;241m.\u001b[39mcolumns\n",
      "\u001b[1;31mNameError\u001b[0m: name 'final_data' is not defined"
     ]
    }
   ],
   "source": [
    "final_data.columns # scan for repeated column names "
   ]
  },
  {
   "cell_type": "code",
   "execution_count": 64,
   "metadata": {},
   "outputs": [
    {
     "ename": "NameError",
     "evalue": "name 'final_data' is not defined",
     "output_type": "error",
     "traceback": [
      "\u001b[1;31m---------------------------------------------------------------------------\u001b[0m",
      "\u001b[1;31mNameError\u001b[0m                                 Traceback (most recent call last)",
      "Input \u001b[1;32mIn [64]\u001b[0m, in \u001b[0;36m<cell line: 1>\u001b[1;34m()\u001b[0m\n\u001b[1;32m----> 1\u001b[0m \u001b[43mfinal_data\u001b[49m\u001b[38;5;241m.\u001b[39mcolumns\n",
      "\u001b[1;31mNameError\u001b[0m: name 'final_data' is not defined"
     ]
    }
   ],
   "source": [
    "final_data.columns"
   ]
  },
  {
   "cell_type": "code",
   "execution_count": 65,
   "metadata": {},
   "outputs": [
    {
     "ename": "NameError",
     "evalue": "name 'final_data' is not defined",
     "output_type": "error",
     "traceback": [
      "\u001b[1;31m---------------------------------------------------------------------------\u001b[0m",
      "\u001b[1;31mNameError\u001b[0m                                 Traceback (most recent call last)",
      "Input \u001b[1;32mIn [65]\u001b[0m, in \u001b[0;36m<cell line: 2>\u001b[1;34m()\u001b[0m\n\u001b[0;32m      1\u001b[0m \u001b[38;5;66;03m#save table to csv file \u001b[39;00m\n\u001b[1;32m----> 2\u001b[0m \u001b[43mfinal_data\u001b[49m\u001b[38;5;241m.\u001b[39mto_csv(\u001b[38;5;124m'\u001b[39m\u001b[38;5;124mfeature_extract.csv\u001b[39m\u001b[38;5;124m'\u001b[39m, index\u001b[38;5;241m=\u001b[39m\u001b[38;5;28;01mFalse\u001b[39;00m)\n",
      "\u001b[1;31mNameError\u001b[0m: name 'final_data' is not defined"
     ]
    }
   ],
   "source": [
    "#save table to csv file \n",
    "final_data.to_csv('feature_extract.csv', index=False) "
   ]
  },
  {
   "cell_type": "code",
   "execution_count": null,
   "metadata": {},
   "outputs": [],
   "source": []
  }
 ],
 "metadata": {
  "colab": {
   "name": "CollectData.ipynb",
   "provenance": []
  },
  "interpreter": {
   "hash": "06d551a9c38e3c9226fb791b081d443165cdefd6b8907d1070492d8de0992181"
  },
  "kernelspec": {
   "display_name": "Python 3 (ipykernel)",
   "language": "python",
   "name": "python3"
  },
  "language_info": {
   "codemirror_mode": {
    "name": "ipython",
    "version": 3
   },
   "file_extension": ".py",
   "mimetype": "text/x-python",
   "name": "python",
   "nbconvert_exporter": "python",
   "pygments_lexer": "ipython3",
   "version": "3.9.12"
  }
 },
 "nbformat": 4,
 "nbformat_minor": 1
}
